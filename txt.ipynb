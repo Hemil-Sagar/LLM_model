{
 "cells": [
  {
   "cell_type": "code",
   "execution_count": 1,
   "metadata": {},
   "outputs": [
    {
     "name": "stdout",
     "output_type": "stream",
     "text": [
      "hii\n"
     ]
    }
   ],
   "source": [
    "print('hii')"
   ]
  },
  {
   "cell_type": "code",
   "execution_count": 5,
   "metadata": {},
   "outputs": [
    {
     "name": "stdout",
     "output_type": "stream",
     "text": [
      "Collecting ffmpeg-python\n",
      "  Downloading ffmpeg_python-0.2.0-py3-none-any.whl.metadata (1.7 kB)\n",
      "Collecting future (from ffmpeg-python)\n",
      "  Downloading future-1.0.0-py3-none-any.whl.metadata (4.0 kB)\n",
      "Downloading ffmpeg_python-0.2.0-py3-none-any.whl (25 kB)\n",
      "Downloading future-1.0.0-py3-none-any.whl (491 kB)\n",
      "Installing collected packages: future, ffmpeg-python\n",
      "Successfully installed ffmpeg-python-0.2.0 future-1.0.0\n",
      "Note: you may need to restart the kernel to use updated packages.\n"
     ]
    }
   ],
   "source": [
    "pip install ffmpeg-python"
   ]
  },
  {
   "cell_type": "code",
   "execution_count": 1,
   "metadata": {},
   "outputs": [],
   "source": [
    "import ffmpeg"
   ]
  },
  {
   "cell_type": "code",
   "execution_count": 3,
   "metadata": {},
   "outputs": [
    {
     "name": "stderr",
     "output_type": "stream",
     "text": [
      "ffmpeg version n7.1 Copyright (c) 2000-2024 the FFmpeg developers\n",
      "  built with gcc 14.2.1 (GCC) 20250207\n",
      "  configuration: --prefix=/usr --disable-debug --disable-static --disable-stripping --enable-amf --enable-avisynth --enable-cuda-llvm --enable-lto --enable-fontconfig --enable-frei0r --enable-gmp --enable-gnutls --enable-gpl --enable-ladspa --enable-libaom --enable-libass --enable-libbluray --enable-libbs2b --enable-libdav1d --enable-libdrm --enable-libdvdnav --enable-libdvdread --enable-libfreetype --enable-libfribidi --enable-libglslang --enable-libgsm --enable-libharfbuzz --enable-libiec61883 --enable-libjack --enable-libjxl --enable-libmodplug --enable-libmp3lame --enable-libopencore_amrnb --enable-libopencore_amrwb --enable-libopenjpeg --enable-libopenmpt --enable-libopus --enable-libplacebo --enable-libpulse --enable-librav1e --enable-librsvg --enable-librubberband --enable-libsnappy --enable-libsoxr --enable-libspeex --enable-libsrt --enable-libssh --enable-libsvtav1 --enable-libtheora --enable-libv4l2 --enable-libvidstab --enable-libvmaf --enable-libvorbis --enable-libvpl --enable-libvpx --enable-libwebp --enable-libx264 --enable-libx265 --enable-libxcb --enable-libxml2 --enable-libxvid --enable-libzimg --enable-libzmq --enable-nvdec --enable-nvenc --enable-opencl --enable-opengl --enable-shared --enable-vapoursynth --enable-version3 --enable-vulkan\n",
      "  libavutil      59. 39.100 / 59. 39.100\n",
      "  libavcodec     61. 19.100 / 61. 19.100\n",
      "  libavformat    61.  7.100 / 61.  7.100\n",
      "  libavdevice    61.  3.100 / 61.  3.100\n",
      "  libavfilter    10.  4.100 / 10.  4.100\n",
      "  libswscale      8.  3.100 /  8.  3.100\n",
      "  libswresample   5.  3.100 /  5.  3.100\n",
      "  libpostproc    58.  3.100 / 58.  3.100\n",
      "Input #0, mov,mp4,m4a,3gp,3g2,mj2, from '/home/hemil/Desktop/LLM/videoplayback.mp4':\n",
      "  Metadata:\n",
      "    major_brand     : mp42\n",
      "    minor_version   : 0\n",
      "    compatible_brands: isommp42\n",
      "    encoder         : Google\n",
      "  Duration: 00:14:28.52, start: 0.000000, bitrate: 312 kb/s\n",
      "  Stream #0:0[0x1](und): Video: h264 (Main) (avc1 / 0x31637661), yuv420p(tv, bt709, progressive), 640x360 [SAR 1:1 DAR 16:9], 213 kb/s, 24 fps, 24 tbr, 12288 tbn (default)\n",
      "      Metadata:\n",
      "        handler_name    : ISO Media file produced by Google Inc.\n",
      "        vendor_id       : [0][0][0][0]\n",
      "  Stream #0:1[0x2](und): Audio: aac (LC) (mp4a / 0x6134706D), 44100 Hz, stereo, fltp, 95 kb/s (default)\n",
      "      Metadata:\n",
      "        handler_name    : ISO Media file produced by Google Inc.\n",
      "        vendor_id       : [0][0][0][0]\n",
      "Stream mapping:\n",
      "  Stream #0:1 -> #0:0 (aac (native) -> mp3 (libmp3lame))\n",
      "Press [q] to stop, [?] for help\n",
      "Output #0, mp3, to 'output_audio.mp3':\n",
      "  Metadata:\n",
      "    major_brand     : mp42\n",
      "    minor_version   : 0\n",
      "    compatible_brands: isommp42\n",
      "    TSSE            : Lavf61.7.100\n",
      "  Stream #0:0(und): Audio: mp3, 44100 Hz, stereo, fltp (default)\n",
      "      Metadata:\n",
      "        handler_name    : ISO Media file produced by Google Inc.\n",
      "        vendor_id       : [0][0][0][0]\n",
      "        encoder         : Lavc61.19.100 libmp3lame\n",
      "size=   13312KiB time=00:14:19.37 bitrate= 126.9kbits/s speed=16.6x    \r"
     ]
    },
    {
     "name": "stdout",
     "output_type": "stream",
     "text": [
      "Audio successfully saved to output_audio.mp3\n"
     ]
    },
    {
     "name": "stderr",
     "output_type": "stream",
     "text": [
      "[out#0/mp3 @ 0x5fb9a955a600] video:0KiB audio:13571KiB subtitle:0KiB other streams:0KiB global headers:0KiB muxing overhead: 0.002483%\n",
      "size=   13571KiB time=00:14:28.51 bitrate= 128.0kbits/s speed=16.6x    \n"
     ]
    }
   ],
   "source": [
    "import ffmpeg\n",
    "\n",
    "def convert_video_to_audio(video_file_path, audio_file_path):\n",
    "    try:\n",
    "        # Load the video file\n",
    "        stream = ffmpeg.input(video_file_path)\n",
    "\n",
    "        # Extract audio from the video\n",
    "        audio = stream.audio\n",
    "\n",
    "        # Save the extracted audio to the specified file\n",
    "        ffmpeg.output(audio, audio_file_path).run()\n",
    "\n",
    "        print(f\"Audio successfully saved to {audio_file_path}\")\n",
    "\n",
    "    except ffmpeg.Error as e:\n",
    "        print(f\"An error occurred: {e.stderr.decode('utf-8')}\")\n",
    "\n",
    "# Example usage\n",
    "video_file = r'/home/hemil/Desktop/LLM/videoplayback.mp4'  # Replace with your video file path\n",
    "audio_file = 'output_audio.mp3'  # Replace with your desired audio file path\n",
    "\n",
    "convert_video_to_audio(video_file, audio_file)"
   ]
  },
  {
   "cell_type": "code",
   "execution_count": 1,
   "metadata": {},
   "outputs": [
    {
     "name": "stdout",
     "output_type": "stream",
     "text": [
      "Collecting openai-whisper\n",
      "  Using cached openai-whisper-20240930.tar.gz (800 kB)\n",
      "  Installing build dependencies ... \u001b[?25ldone\n",
      "\u001b[?25h  Getting requirements to build wheel ... \u001b[?25lerror\n",
      "  \u001b[1;31merror\u001b[0m: \u001b[1msubprocess-exited-with-error\u001b[0m\n",
      "  \n",
      "  \u001b[31m×\u001b[0m \u001b[32mGetting requirements to build wheel\u001b[0m did not run successfully.\n",
      "  \u001b[31m│\u001b[0m exit code: \u001b[1;36m1\u001b[0m\n",
      "  \u001b[31m╰─>\u001b[0m \u001b[31m[25 lines of output]\u001b[0m\n",
      "  \u001b[31m   \u001b[0m <string>:5: DeprecationWarning: pkg_resources is deprecated as an API. See https://setuptools.pypa.io/en/latest/pkg_resources.html\n",
      "  \u001b[31m   \u001b[0m Traceback (most recent call last):\n",
      "  \u001b[31m   \u001b[0m   File \u001b[35m\"/home/hemil/Desktop/LLM/.venv/lib/python3.13/site-packages/pip/_vendor/pyproject_hooks/_in_process/_in_process.py\"\u001b[0m, line \u001b[35m389\u001b[0m, in \u001b[35m<module>\u001b[0m\n",
      "  \u001b[31m   \u001b[0m     \u001b[31mmain\u001b[0m\u001b[1;31m()\u001b[0m\n",
      "  \u001b[31m   \u001b[0m     \u001b[31m~~~~\u001b[0m\u001b[1;31m^^\u001b[0m\n",
      "  \u001b[31m   \u001b[0m   File \u001b[35m\"/home/hemil/Desktop/LLM/.venv/lib/python3.13/site-packages/pip/_vendor/pyproject_hooks/_in_process/_in_process.py\"\u001b[0m, line \u001b[35m373\u001b[0m, in \u001b[35mmain\u001b[0m\n",
      "  \u001b[31m   \u001b[0m     json_out[\"return_val\"] = \u001b[31mhook\u001b[0m\u001b[1;31m(**hook_input[\"kwargs\"])\u001b[0m\n",
      "  \u001b[31m   \u001b[0m                              \u001b[31m~~~~\u001b[0m\u001b[1;31m^^^^^^^^^^^^^^^^^^^^^^^^\u001b[0m\n",
      "  \u001b[31m   \u001b[0m   File \u001b[35m\"/home/hemil/Desktop/LLM/.venv/lib/python3.13/site-packages/pip/_vendor/pyproject_hooks/_in_process/_in_process.py\"\u001b[0m, line \u001b[35m143\u001b[0m, in \u001b[35mget_requires_for_build_wheel\u001b[0m\n",
      "  \u001b[31m   \u001b[0m     return hook(config_settings)\n",
      "  \u001b[31m   \u001b[0m   File \u001b[35m\"/tmp/pip-build-env-4j7lrgfl/overlay/lib/python3.13/site-packages/setuptools/build_meta.py\"\u001b[0m, line \u001b[35m334\u001b[0m, in \u001b[35mget_requires_for_build_wheel\u001b[0m\n",
      "  \u001b[31m   \u001b[0m     return \u001b[31mself._get_build_requires\u001b[0m\u001b[1;31m(config_settings, requirements=[])\u001b[0m\n",
      "  \u001b[31m   \u001b[0m            \u001b[31m~~~~~~~~~~~~~~~~~~~~~~~~\u001b[0m\u001b[1;31m^^^^^^^^^^^^^^^^^^^^^^^^^^^^^^^^^^\u001b[0m\n",
      "  \u001b[31m   \u001b[0m   File \u001b[35m\"/tmp/pip-build-env-4j7lrgfl/overlay/lib/python3.13/site-packages/setuptools/build_meta.py\"\u001b[0m, line \u001b[35m304\u001b[0m, in \u001b[35m_get_build_requires\u001b[0m\n",
      "  \u001b[31m   \u001b[0m     \u001b[31mself.run_setup\u001b[0m\u001b[1;31m()\u001b[0m\n",
      "  \u001b[31m   \u001b[0m     \u001b[31m~~~~~~~~~~~~~~\u001b[0m\u001b[1;31m^^\u001b[0m\n",
      "  \u001b[31m   \u001b[0m   File \u001b[35m\"/tmp/pip-build-env-4j7lrgfl/overlay/lib/python3.13/site-packages/setuptools/build_meta.py\"\u001b[0m, line \u001b[35m522\u001b[0m, in \u001b[35mrun_setup\u001b[0m\n",
      "  \u001b[31m   \u001b[0m     \u001b[31msuper().run_setup\u001b[0m\u001b[1;31m(setup_script=setup_script)\u001b[0m\n",
      "  \u001b[31m   \u001b[0m     \u001b[31m~~~~~~~~~~~~~~~~~\u001b[0m\u001b[1;31m^^^^^^^^^^^^^^^^^^^^^^^^^^^\u001b[0m\n",
      "  \u001b[31m   \u001b[0m   File \u001b[35m\"/tmp/pip-build-env-4j7lrgfl/overlay/lib/python3.13/site-packages/setuptools/build_meta.py\"\u001b[0m, line \u001b[35m320\u001b[0m, in \u001b[35mrun_setup\u001b[0m\n",
      "  \u001b[31m   \u001b[0m     \u001b[31mexec\u001b[0m\u001b[1;31m(code, locals())\u001b[0m\n",
      "  \u001b[31m   \u001b[0m     \u001b[31m~~~~\u001b[0m\u001b[1;31m^^^^^^^^^^^^^^^^\u001b[0m\n",
      "  \u001b[31m   \u001b[0m   File \u001b[35m\"<string>\"\u001b[0m, line \u001b[35m21\u001b[0m, in \u001b[35m<module>\u001b[0m\n",
      "  \u001b[31m   \u001b[0m   File \u001b[35m\"<string>\"\u001b[0m, line \u001b[35m11\u001b[0m, in \u001b[35mread_version\u001b[0m\n",
      "  \u001b[31m   \u001b[0m \u001b[1;35mKeyError\u001b[0m: \u001b[35m'__version__'\u001b[0m\n",
      "  \u001b[31m   \u001b[0m \u001b[31m[end of output]\u001b[0m\n",
      "  \n",
      "  \u001b[1;35mnote\u001b[0m: This error originates from a subprocess, and is likely not a problem with pip.\n",
      "\u001b[?25h\u001b[1;31merror\u001b[0m: \u001b[1msubprocess-exited-with-error\u001b[0m\n",
      "\n",
      "\u001b[31m×\u001b[0m \u001b[32mGetting requirements to build wheel\u001b[0m did not run successfully.\n",
      "\u001b[31m│\u001b[0m exit code: \u001b[1;36m1\u001b[0m\n",
      "\u001b[31m╰─>\u001b[0m See above for output.\n",
      "\n",
      "\u001b[1;35mnote\u001b[0m: This error originates from a subprocess, and is likely not a problem with pip.\n",
      "Note: you may need to restart the kernel to use updated packages.\n"
     ]
    }
   ],
   "source": [
    "pip install -U openai-whisper"
   ]
  },
  {
   "cell_type": "code",
   "execution_count": null,
   "metadata": {},
   "outputs": [
    {
     "name": "stdout",
     "output_type": "stream",
     "text": [
      "{'text': \" I used to believe we were burning on the edge of something beautiful Something beautiful, selling a dream, smoking mirrors keep us waiting on the miracle All the miracles They go through the darkest of days having some heartbreak away Never let you go, never let me down Oh it's been a hell of a fight driving the edge of a night Never let you go, never let me down Don't you give up, nah nah nah I won't give up, nah nah nah Let me love you, let me love you Don't you give up, nah nah nah I won't give up, nah nah nah Let me love you, let me love you Don't fall asleep, I thought we got a million miles ahead of us Miles ahead of us, all that we need is our road away Can't you know we're good enough, yeah, we're good enough They go through the darkest of days having some heartbreak away Never let you go, never let me down Oh it's been a hell of a fight driving the edge of a night Never let you go, never let me down Don't you give up, nah nah nah I won't give up, nah nah nah Let me love you, let me love you Don't you give up, nah nah nah I won't give up, nah nah nah Let me love you, let me love you I won't give up, nah nah nah I won't give up, nah nah nah Let me love you, let me love you Don't you give up, nah nah nah I won't give up, nah nah nah Let me love you, let me love you I want to be long, gotta do my hair, but my makeup on It's bright and I, and I won't belong to love Hit the thumbs, fly, hit the thumbs, fly I gotta wanna leave, oh I ain't got cash, I ain't got cash But I'll grab you, baby, baby I don't need that love until I'm fun tonight Baby I don't need that love until I'm fun tonight But I don't need no money As long as I can feel the beat I don't need no money As long as I give them you see Come on, come on, turn the radio on inside your day And I won't be long, but I've been my nails But my hands on inside our day And I won't be long till I hit the thumbs up Hit the thumbs up, I got a lot of need No, I ain't got cash, I ain't got cash But I'll guide you, baby Baby, I don't need that love in all that happens tonight Love, I don't need that love in all that happens tonight Love, I don't need no money As long as I can feel the beat I don't need no money As long as I give them you see Come on, come on. I love you, pal I don't need no money As long as I can feel the beat I don't need no money As long as I keep dancing Oh oh baby I don't need that love And I'll tell her fun tonight I love you baby I don't need that love And I'll tell her fun tonight I love you baby I don't need no money As long as I can feel the wind I don't need no money As long as I can feel the wind I love fake tropicals I just heard you found the one you've been looking You were looking for I wish I would have known that wasn't me Because even after all this time I still wonder Why can't move on? Just the way you did so easily Don't wanna know, kinda dress you wear until night If you're holding on to your soul tight Where you're at it before I'll go on soon enough, your love is a game Now I can't get you out in my brain Oh, it's such a shame We don't talk anymore We don't talk anymore We don't talk anymore We don't talk anymore Like we used to do We don't laugh anymore But what's all of it for We don't talk anymore Like we used to do We don't talk anymore Like we used to do I just hope you're lying like somebody And those kind of love you like me Must be a good reason that you can't But every now and then I think you might want to come show up at your door But I'm just too afraid that I'll be wrong Don't wanna know, if you're looking new to it I'm just holding on to your soul tight The way I took it before I'll go on soon enough, your love is a game Now I can't get you out in my brain Oh, it's such a shame We don't talk anymore We don't talk anymore We don't talk anymore Like we used to do We don't laugh anymore But what's all of it for We don't talk anymore Like we used to do Yeah Yeah Yeah Yeah Yeah Yeah Yeah Yeah Yeah Yeah I'm alone, I can't adjust you, I'm even too late If you're skimming, I'll tell you just right The way I did before I hope I'm cold, should I know my love is like a game? Now I can't get you out of my brain Oh, it's such a shame We don't talk anymore We don't talk anymore We don't talk anymore Like we used to do We don't love anymore We're both so loving for all We don't talk anymore Like we used to do We don't talk anymore I hope I'm cold, should I know my love is like a game? Now I can't get you out of my brain Oh, it's such a shame We don't talk anymore I tell myself You don't mean nothing I'm why we got Got no hold on me But when you're not there I just crumble I tell myself I don't care that much But I feel like I died Tell I feel your touch Only love Only love can hurt like this Only love can hurt like this Must have been worth it because Only love can hurt like this I wouldn't care if you walked away But every time you're there I'm begging you to stay When you come close I just crumble And every time Every time you go It's like a knife That cut right to my soul Only love Only love can hurt like this Only love can hurt like this Must have been worth it because Only love can hurt like this Only love can hurt like this Your kiss is done into my skin Only love can hurt like this But if the sweetest pain Burning heart Through my veins Love is torture Pages me more so Only love can hurt like this Only love can hurt like this Only love can hurt like this Must have been worth it because Only love can hurt like this Only love can hurt like this Your kiss is done into my skin Only love can hurt like this Only love can hurt like this Only love can hurt like this Only love can hurt like this And must have been worth it because\", 'segments': [{'id': 0, 'seek': 0, 'start': 0.0, 'end': 15.92, 'text': ' I used to believe we were burning on the edge of something beautiful', 'tokens': [50364, 286, 1143, 281, 1697, 321, 645, 9488, 322, 264, 4691, 295, 746, 2238, 51160], 'temperature': 0.4, 'avg_logprob': -0.6993950675515568, 'compression_ratio': 1.4299065420560748, 'no_speech_prob': 0.6273504495620728}, {'id': 1, 'seek': 0, 'start': 15.92, 'end': 25.3, 'text': ' Something beautiful, selling a dream, smoking mirrors keep us waiting on the miracle', 'tokens': [51160, 6595, 2238, 11, 6511, 257, 3055, 11, 14055, 24238, 1066, 505, 3806, 322, 264, 14660, 51629], 'temperature': 0.4, 'avg_logprob': -0.6993950675515568, 'compression_ratio': 1.4299065420560748, 'no_speech_prob': 0.6273504495620728}, {'id': 2, 'seek': 2530, 'start': 25.3, 'end': 27.3, 'text': ' All the miracles', 'tokens': [50364, 1057, 264, 24685, 50464], 'temperature': 0.0, 'avg_logprob': -0.32136568209020105, 'compression_ratio': 1.7371794871794872, 'no_speech_prob': 0.3920869529247284}, {'id': 3, 'seek': 2530, 'start': 27.3, 'end': 33.3, 'text': ' They go through the darkest of days having some heartbreak away', 'tokens': [50464, 814, 352, 807, 264, 33460, 295, 1708, 1419, 512, 1917, 13225, 1314, 50764], 'temperature': 0.0, 'avg_logprob': -0.32136568209020105, 'compression_ratio': 1.7371794871794872, 'no_speech_prob': 0.3920869529247284}, {'id': 4, 'seek': 2530, 'start': 33.3, 'end': 37.3, 'text': ' Never let you go, never let me down', 'tokens': [50764, 7344, 718, 291, 352, 11, 1128, 718, 385, 760, 50964], 'temperature': 0.0, 'avg_logprob': -0.32136568209020105, 'compression_ratio': 1.7371794871794872, 'no_speech_prob': 0.3920869529247284}, {'id': 5, 'seek': 2530, 'start': 37.3, 'end': 43.3, 'text': \" Oh it's been a hell of a fight driving the edge of a night\", 'tokens': [50964, 876, 309, 311, 668, 257, 4921, 295, 257, 2092, 4840, 264, 4691, 295, 257, 1818, 51264], 'temperature': 0.0, 'avg_logprob': -0.32136568209020105, 'compression_ratio': 1.7371794871794872, 'no_speech_prob': 0.3920869529247284}, {'id': 6, 'seek': 2530, 'start': 43.3, 'end': 47.3, 'text': ' Never let you go, never let me down', 'tokens': [51264, 7344, 718, 291, 352, 11, 1128, 718, 385, 760, 51464], 'temperature': 0.0, 'avg_logprob': -0.32136568209020105, 'compression_ratio': 1.7371794871794872, 'no_speech_prob': 0.3920869529247284}, {'id': 7, 'seek': 2530, 'start': 47.3, 'end': 49.3, 'text': \" Don't you give up, nah nah nah\", 'tokens': [51464, 1468, 380, 291, 976, 493, 11, 17170, 17170, 17170, 51564], 'temperature': 0.0, 'avg_logprob': -0.32136568209020105, 'compression_ratio': 1.7371794871794872, 'no_speech_prob': 0.3920869529247284}, {'id': 8, 'seek': 2530, 'start': 49.3, 'end': 51.3, 'text': \" I won't give up, nah nah nah\", 'tokens': [51564, 286, 1582, 380, 976, 493, 11, 17170, 17170, 17170, 51664], 'temperature': 0.0, 'avg_logprob': -0.32136568209020105, 'compression_ratio': 1.7371794871794872, 'no_speech_prob': 0.3920869529247284}, {'id': 9, 'seek': 5130, 'start': 51.3, 'end': 55.3, 'text': ' Let me love you, let me love you', 'tokens': [50364, 961, 385, 959, 291, 11, 718, 385, 959, 291, 50564], 'temperature': 0.0, 'avg_logprob': -0.08324934641520182, 'compression_ratio': 2.1551724137931036, 'no_speech_prob': 0.2766706049442291}, {'id': 10, 'seek': 5130, 'start': 55.3, 'end': 59.3, 'text': \" Don't you give up, nah nah nah\", 'tokens': [50564, 1468, 380, 291, 976, 493, 11, 17170, 17170, 17170, 50764], 'temperature': 0.0, 'avg_logprob': -0.08324934641520182, 'compression_ratio': 2.1551724137931036, 'no_speech_prob': 0.2766706049442291}, {'id': 11, 'seek': 5130, 'start': 59.3, 'end': 61.3, 'text': \" I won't give up, nah nah nah\", 'tokens': [50764, 286, 1582, 380, 976, 493, 11, 17170, 17170, 17170, 50864], 'temperature': 0.0, 'avg_logprob': -0.08324934641520182, 'compression_ratio': 2.1551724137931036, 'no_speech_prob': 0.2766706049442291}, {'id': 12, 'seek': 5130, 'start': 61.3, 'end': 65.3, 'text': ' Let me love you, let me love you', 'tokens': [50864, 961, 385, 959, 291, 11, 718, 385, 959, 291, 51064], 'temperature': 0.0, 'avg_logprob': -0.08324934641520182, 'compression_ratio': 2.1551724137931036, 'no_speech_prob': 0.2766706049442291}, {'id': 13, 'seek': 8130, 'start': 81.3, 'end': 91.3, 'text': \" Don't fall asleep, I thought we got a million miles ahead of us\", 'tokens': [50364, 1468, 380, 2100, 11039, 11, 286, 1194, 321, 658, 257, 2459, 6193, 2286, 295, 505, 50864], 'temperature': 0.0, 'avg_logprob': -0.34582757216233473, 'compression_ratio': 1.5454545454545454, 'no_speech_prob': 0.12228317558765411}, {'id': 14, 'seek': 8130, 'start': 91.3, 'end': 99.3, 'text': ' Miles ahead of us, all that we need is our road away', 'tokens': [50864, 27384, 2286, 295, 505, 11, 439, 300, 321, 643, 307, 527, 3060, 1314, 51264], 'temperature': 0.0, 'avg_logprob': -0.34582757216233473, 'compression_ratio': 1.5454545454545454, 'no_speech_prob': 0.12228317558765411}, {'id': 15, 'seek': 8130, 'start': 99.3, 'end': 105.3, 'text': \" Can't you know we're good enough, yeah, we're good enough\", 'tokens': [51264, 1664, 380, 291, 458, 321, 434, 665, 1547, 11, 1338, 11, 321, 434, 665, 1547, 51564], 'temperature': 0.0, 'avg_logprob': -0.34582757216233473, 'compression_ratio': 1.5454545454545454, 'no_speech_prob': 0.12228317558765411}, {'id': 16, 'seek': 8130, 'start': 105.3, 'end': 110.3, 'text': ' They go through the darkest of days having some heartbreak away', 'tokens': [51564, 814, 352, 807, 264, 33460, 295, 1708, 1419, 512, 1917, 13225, 1314, 51814], 'temperature': 0.0, 'avg_logprob': -0.34582757216233473, 'compression_ratio': 1.5454545454545454, 'no_speech_prob': 0.12228317558765411}, {'id': 17, 'seek': 11030, 'start': 110.3, 'end': 114.3, 'text': ' Never let you go, never let me down', 'tokens': [50364, 7344, 718, 291, 352, 11, 1128, 718, 385, 760, 50564], 'temperature': 0.0, 'avg_logprob': -0.03140706174513873, 'compression_ratio': 2.065040650406504, 'no_speech_prob': 0.0731242448091507}, {'id': 18, 'seek': 11030, 'start': 114.3, 'end': 120.3, 'text': \" Oh it's been a hell of a fight driving the edge of a night\", 'tokens': [50564, 876, 309, 311, 668, 257, 4921, 295, 257, 2092, 4840, 264, 4691, 295, 257, 1818, 50864], 'temperature': 0.0, 'avg_logprob': -0.03140706174513873, 'compression_ratio': 2.065040650406504, 'no_speech_prob': 0.0731242448091507}, {'id': 19, 'seek': 11030, 'start': 120.3, 'end': 124.3, 'text': ' Never let you go, never let me down', 'tokens': [50864, 7344, 718, 291, 352, 11, 1128, 718, 385, 760, 51064], 'temperature': 0.0, 'avg_logprob': -0.03140706174513873, 'compression_ratio': 2.065040650406504, 'no_speech_prob': 0.0731242448091507}, {'id': 20, 'seek': 11030, 'start': 124.3, 'end': 126.3, 'text': \" Don't you give up, nah nah nah\", 'tokens': [51064, 1468, 380, 291, 976, 493, 11, 17170, 17170, 17170, 51164], 'temperature': 0.0, 'avg_logprob': -0.03140706174513873, 'compression_ratio': 2.065040650406504, 'no_speech_prob': 0.0731242448091507}, {'id': 21, 'seek': 11030, 'start': 126.3, 'end': 128.3, 'text': \" I won't give up, nah nah nah\", 'tokens': [51164, 286, 1582, 380, 976, 493, 11, 17170, 17170, 17170, 51264], 'temperature': 0.0, 'avg_logprob': -0.03140706174513873, 'compression_ratio': 2.065040650406504, 'no_speech_prob': 0.0731242448091507}, {'id': 22, 'seek': 11030, 'start': 128.3, 'end': 132.3, 'text': ' Let me love you, let me love you', 'tokens': [51264, 961, 385, 959, 291, 11, 718, 385, 959, 291, 51464], 'temperature': 0.0, 'avg_logprob': -0.03140706174513873, 'compression_ratio': 2.065040650406504, 'no_speech_prob': 0.0731242448091507}, {'id': 23, 'seek': 11030, 'start': 132.3, 'end': 136.3, 'text': \" Don't you give up, nah nah nah\", 'tokens': [51464, 1468, 380, 291, 976, 493, 11, 17170, 17170, 17170, 51664], 'temperature': 0.0, 'avg_logprob': -0.03140706174513873, 'compression_ratio': 2.065040650406504, 'no_speech_prob': 0.0731242448091507}, {'id': 24, 'seek': 13630, 'start': 136.3, 'end': 138.3, 'text': \" I won't give up, nah nah nah\", 'tokens': [50364, 286, 1582, 380, 976, 493, 11, 17170, 17170, 17170, 50464], 'temperature': 0.0, 'avg_logprob': -0.04215619356735893, 'compression_ratio': 1.2708333333333333, 'no_speech_prob': 0.1600734293460846}, {'id': 25, 'seek': 13630, 'start': 138.3, 'end': 142.3, 'text': ' Let me love you, let me love you', 'tokens': [50464, 961, 385, 959, 291, 11, 718, 385, 959, 291, 50664], 'temperature': 0.0, 'avg_logprob': -0.04215619356735893, 'compression_ratio': 1.2708333333333333, 'no_speech_prob': 0.1600734293460846}, {'id': 26, 'seek': 16630, 'start': 166.3, 'end': 168.3, 'text': \" I won't give up, nah nah nah\", 'tokens': [50364, 286, 1582, 380, 976, 493, 11, 17170, 17170, 17170, 50464], 'temperature': 0.2, 'avg_logprob': -0.15588579177856446, 'compression_ratio': 1.7647058823529411, 'no_speech_prob': 0.2965385317802429}, {'id': 27, 'seek': 16630, 'start': 168.3, 'end': 170.3, 'text': \" I won't give up, nah nah nah\", 'tokens': [50464, 286, 1582, 380, 976, 493, 11, 17170, 17170, 17170, 50564], 'temperature': 0.2, 'avg_logprob': -0.15588579177856446, 'compression_ratio': 1.7647058823529411, 'no_speech_prob': 0.2965385317802429}, {'id': 28, 'seek': 16630, 'start': 170.3, 'end': 190.3, 'text': ' Let me love you, let me love you', 'tokens': [50564, 961, 385, 959, 291, 11, 718, 385, 959, 291, 51564], 'temperature': 0.2, 'avg_logprob': -0.15588579177856446, 'compression_ratio': 1.7647058823529411, 'no_speech_prob': 0.2965385317802429}, {'id': 29, 'seek': 19030, 'start': 190.3, 'end': 194.3, 'text': \" Don't you give up, nah nah nah\", 'tokens': [50364, 1468, 380, 291, 976, 493, 11, 17170, 17170, 17170, 50564], 'temperature': 0.0, 'avg_logprob': -0.0828006758409388, 'compression_ratio': 1.6428571428571428, 'no_speech_prob': 0.26338881254196167}, {'id': 30, 'seek': 19030, 'start': 194.3, 'end': 196.3, 'text': \" I won't give up, nah nah nah\", 'tokens': [50564, 286, 1582, 380, 976, 493, 11, 17170, 17170, 17170, 50664], 'temperature': 0.0, 'avg_logprob': -0.0828006758409388, 'compression_ratio': 1.6428571428571428, 'no_speech_prob': 0.26338881254196167}, {'id': 31, 'seek': 19030, 'start': 196.3, 'end': 200.3, 'text': ' Let me love you, let me love you', 'tokens': [50664, 961, 385, 959, 291, 11, 718, 385, 959, 291, 50864], 'temperature': 0.0, 'avg_logprob': -0.0828006758409388, 'compression_ratio': 1.6428571428571428, 'no_speech_prob': 0.26338881254196167}, {'id': 32, 'seek': 22030, 'start': 220.3, 'end': 224.3, 'text': ' I want to be long, gotta do my hair, but my makeup on', 'tokens': [50364, 286, 528, 281, 312, 938, 11, 3428, 360, 452, 2578, 11, 457, 452, 6567, 322, 50564], 'temperature': 0.6, 'avg_logprob': -0.49074470079862154, 'compression_ratio': 1.8728323699421965, 'no_speech_prob': 0.9233691096305847}, {'id': 33, 'seek': 22030, 'start': 224.3, 'end': 228.3, 'text': \" It's bright and I, and I won't belong to love\", 'tokens': [50564, 467, 311, 4730, 293, 286, 11, 293, 286, 1582, 380, 5784, 281, 959, 50764], 'temperature': 0.6, 'avg_logprob': -0.49074470079862154, 'compression_ratio': 1.8728323699421965, 'no_speech_prob': 0.9233691096305847}, {'id': 34, 'seek': 22030, 'start': 228.3, 'end': 230.3, 'text': ' Hit the thumbs, fly, hit the thumbs, fly', 'tokens': [50764, 9217, 264, 8838, 11, 3603, 11, 2045, 264, 8838, 11, 3603, 50864], 'temperature': 0.6, 'avg_logprob': -0.49074470079862154, 'compression_ratio': 1.8728323699421965, 'no_speech_prob': 0.9233691096305847}, {'id': 35, 'seek': 22030, 'start': 230.3, 'end': 234.3, 'text': \" I gotta wanna leave, oh I ain't got cash, I ain't got cash\", 'tokens': [50864, 286, 3428, 1948, 1856, 11, 1954, 286, 7862, 380, 658, 6388, 11, 286, 7862, 380, 658, 6388, 51064], 'temperature': 0.6, 'avg_logprob': -0.49074470079862154, 'compression_ratio': 1.8728323699421965, 'no_speech_prob': 0.9233691096305847}, {'id': 36, 'seek': 22030, 'start': 234.3, 'end': 238.3, 'text': \" But I'll grab you, baby, baby\", 'tokens': [51064, 583, 286, 603, 4444, 291, 11, 3186, 11, 3186, 51264], 'temperature': 0.6, 'avg_logprob': -0.49074470079862154, 'compression_ratio': 1.8728323699421965, 'no_speech_prob': 0.9233691096305847}, {'id': 37, 'seek': 22030, 'start': 238.3, 'end': 242.3, 'text': \" I don't need that love until I'm fun tonight\", 'tokens': [51264, 286, 500, 380, 643, 300, 959, 1826, 286, 478, 1019, 4440, 51464], 'temperature': 0.6, 'avg_logprob': -0.49074470079862154, 'compression_ratio': 1.8728323699421965, 'no_speech_prob': 0.9233691096305847}, {'id': 38, 'seek': 22030, 'start': 242.3, 'end': 248.3, 'text': \" Baby I don't need that love until I'm fun tonight\", 'tokens': [51464, 9425, 286, 500, 380, 643, 300, 959, 1826, 286, 478, 1019, 4440, 51764], 'temperature': 0.6, 'avg_logprob': -0.49074470079862154, 'compression_ratio': 1.8728323699421965, 'no_speech_prob': 0.9233691096305847}, {'id': 39, 'seek': 24830, 'start': 248.3, 'end': 253.3, 'text': \" But I don't need no money\", 'tokens': [50364, 583, 286, 500, 380, 643, 572, 1460, 50614], 'temperature': 0.0, 'avg_logprob': -0.3585260363592618, 'compression_ratio': 1.6015625, 'no_speech_prob': 0.6010671854019165}, {'id': 40, 'seek': 24830, 'start': 253.3, 'end': 258.3, 'text': ' As long as I can feel the beat', 'tokens': [50614, 1018, 938, 382, 286, 393, 841, 264, 4224, 50864], 'temperature': 0.0, 'avg_logprob': -0.3585260363592618, 'compression_ratio': 1.6015625, 'no_speech_prob': 0.6010671854019165}, {'id': 41, 'seek': 24830, 'start': 258.3, 'end': 264.3, 'text': \" I don't need no money\", 'tokens': [50864, 286, 500, 380, 643, 572, 1460, 51164], 'temperature': 0.0, 'avg_logprob': -0.3585260363592618, 'compression_ratio': 1.6015625, 'no_speech_prob': 0.6010671854019165}, {'id': 42, 'seek': 24830, 'start': 264.3, 'end': 269.3, 'text': ' As long as I give them you see', 'tokens': [51164, 1018, 938, 382, 286, 976, 552, 291, 536, 51414], 'temperature': 0.0, 'avg_logprob': -0.3585260363592618, 'compression_ratio': 1.6015625, 'no_speech_prob': 0.6010671854019165}, {'id': 43, 'seek': 24830, 'start': 269.3, 'end': 273.3, 'text': ' Come on, come on, turn the radio on inside your day', 'tokens': [51414, 2492, 322, 11, 808, 322, 11, 1261, 264, 6477, 322, 1854, 428, 786, 51614], 'temperature': 0.0, 'avg_logprob': -0.3585260363592618, 'compression_ratio': 1.6015625, 'no_speech_prob': 0.6010671854019165}, {'id': 44, 'seek': 24830, 'start': 273.3, 'end': 276.3, 'text': \" And I won't be long, but I've been my nails\", 'tokens': [51614, 400, 286, 1582, 380, 312, 938, 11, 457, 286, 600, 668, 452, 15394, 51764], 'temperature': 0.0, 'avg_logprob': -0.3585260363592618, 'compression_ratio': 1.6015625, 'no_speech_prob': 0.6010671854019165}, {'id': 45, 'seek': 27630, 'start': 276.3, 'end': 279.3, 'text': ' But my hands on inside our day', 'tokens': [50364, 583, 452, 2377, 322, 1854, 527, 786, 50514], 'temperature': 0.0, 'avg_logprob': -0.32613589716892616, 'compression_ratio': 1.9753086419753085, 'no_speech_prob': 0.18625040352344513}, {'id': 46, 'seek': 27630, 'start': 279.3, 'end': 282.3, 'text': \" And I won't be long till I hit the thumbs up\", 'tokens': [50514, 400, 286, 1582, 380, 312, 938, 4288, 286, 2045, 264, 8838, 493, 50664], 'temperature': 0.0, 'avg_logprob': -0.32613589716892616, 'compression_ratio': 1.9753086419753085, 'no_speech_prob': 0.18625040352344513}, {'id': 47, 'seek': 27630, 'start': 282.3, 'end': 285.3, 'text': ' Hit the thumbs up, I got a lot of need', 'tokens': [50664, 9217, 264, 8838, 493, 11, 286, 658, 257, 688, 295, 643, 50814], 'temperature': 0.0, 'avg_logprob': -0.32613589716892616, 'compression_ratio': 1.9753086419753085, 'no_speech_prob': 0.18625040352344513}, {'id': 48, 'seek': 27630, 'start': 285.3, 'end': 288.3, 'text': \" No, I ain't got cash, I ain't got cash\", 'tokens': [50814, 883, 11, 286, 7862, 380, 658, 6388, 11, 286, 7862, 380, 658, 6388, 50964], 'temperature': 0.0, 'avg_logprob': -0.32613589716892616, 'compression_ratio': 1.9753086419753085, 'no_speech_prob': 0.18625040352344513}, {'id': 49, 'seek': 27630, 'start': 288.3, 'end': 291.3, 'text': \" But I'll guide you, baby\", 'tokens': [50964, 583, 286, 603, 5934, 291, 11, 3186, 51114], 'temperature': 0.0, 'avg_logprob': -0.32613589716892616, 'compression_ratio': 1.9753086419753085, 'no_speech_prob': 0.18625040352344513}, {'id': 50, 'seek': 27630, 'start': 291.3, 'end': 295.3, 'text': \" Baby, I don't need that love in all that happens tonight\", 'tokens': [51114, 9425, 11, 286, 500, 380, 643, 300, 959, 294, 439, 300, 2314, 4440, 51314], 'temperature': 0.0, 'avg_logprob': -0.32613589716892616, 'compression_ratio': 1.9753086419753085, 'no_speech_prob': 0.18625040352344513}, {'id': 51, 'seek': 27630, 'start': 295.3, 'end': 300.3, 'text': \" Love, I don't need that love in all that happens tonight\", 'tokens': [51314, 5956, 11, 286, 500, 380, 643, 300, 959, 294, 439, 300, 2314, 4440, 51564], 'temperature': 0.0, 'avg_logprob': -0.32613589716892616, 'compression_ratio': 1.9753086419753085, 'no_speech_prob': 0.18625040352344513}, {'id': 52, 'seek': 27630, 'start': 300.3, 'end': 305.3, 'text': \" Love, I don't need no money\", 'tokens': [51564, 5956, 11, 286, 500, 380, 643, 572, 1460, 51814], 'temperature': 0.0, 'avg_logprob': -0.32613589716892616, 'compression_ratio': 1.9753086419753085, 'no_speech_prob': 0.18625040352344513}, {'id': 53, 'seek': 30530, 'start': 305.3, 'end': 312.3, 'text': ' As long as I can feel the beat', 'tokens': [50364, 1018, 938, 382, 286, 393, 841, 264, 4224, 50714], 'temperature': 0.0, 'avg_logprob': -0.13802345593770346, 'compression_ratio': 1.1369863013698631, 'no_speech_prob': 0.03326583281159401}, {'id': 54, 'seek': 30530, 'start': 312.3, 'end': 317.3, 'text': \" I don't need no money\", 'tokens': [50714, 286, 500, 380, 643, 572, 1460, 50964], 'temperature': 0.0, 'avg_logprob': -0.13802345593770346, 'compression_ratio': 1.1369863013698631, 'no_speech_prob': 0.03326583281159401}, {'id': 55, 'seek': 30530, 'start': 317.3, 'end': 323.3, 'text': ' As long as I give them you see', 'tokens': [50964, 1018, 938, 382, 286, 976, 552, 291, 536, 51264], 'temperature': 0.0, 'avg_logprob': -0.13802345593770346, 'compression_ratio': 1.1369863013698631, 'no_speech_prob': 0.03326583281159401}, {'id': 56, 'seek': 32330, 'start': 323.3, 'end': 332.3, 'text': ' Come on, come on.', 'tokens': [50364, 2492, 322, 11, 808, 322, 13, 50814], 'temperature': 0.6, 'avg_logprob': -0.5553722825161246, 'compression_ratio': 1.3012048192771084, 'no_speech_prob': 0.11270347237586975}, {'id': 57, 'seek': 32330, 'start': 332.3, 'end': 334.3, 'text': ' I love you, pal', 'tokens': [50814, 286, 959, 291, 11, 3984, 50914], 'temperature': 0.6, 'avg_logprob': -0.5553722825161246, 'compression_ratio': 1.3012048192771084, 'no_speech_prob': 0.11270347237586975}, {'id': 58, 'seek': 32330, 'start': 334.3, 'end': 339.3, 'text': \" I don't need no money\", 'tokens': [50914, 286, 500, 380, 643, 572, 1460, 51164], 'temperature': 0.6, 'avg_logprob': -0.5553722825161246, 'compression_ratio': 1.3012048192771084, 'no_speech_prob': 0.11270347237586975}, {'id': 59, 'seek': 32330, 'start': 339.3, 'end': 343.3, 'text': ' As long as I can feel the beat', 'tokens': [51164, 1018, 938, 382, 286, 393, 841, 264, 4224, 51364], 'temperature': 0.6, 'avg_logprob': -0.5553722825161246, 'compression_ratio': 1.3012048192771084, 'no_speech_prob': 0.11270347237586975}, {'id': 60, 'seek': 32330, 'start': 343.3, 'end': 350.14, 'text': \" I don't need no money\", 'tokens': [51364, 286, 500, 380, 643, 572, 1460, 51706], 'temperature': 0.6, 'avg_logprob': -0.5553722825161246, 'compression_ratio': 1.3012048192771084, 'no_speech_prob': 0.11270347237586975}, {'id': 61, 'seek': 35014, 'start': 350.14, 'end': 354.14, 'text': ' As long as I keep dancing', 'tokens': [50364, 1018, 938, 382, 286, 1066, 8898, 50564], 'temperature': 0.0, 'avg_logprob': -0.5704374966556078, 'compression_ratio': 1.9739130434782608, 'no_speech_prob': 0.29532590508461}, {'id': 62, 'seek': 35014, 'start': 354.14, 'end': 357.56, 'text': \" Oh oh baby I don't need that love\", 'tokens': [50564, 876, 1954, 3186, 286, 500, 380, 643, 300, 959, 50735], 'temperature': 0.0, 'avg_logprob': -0.5704374966556078, 'compression_ratio': 1.9739130434782608, 'no_speech_prob': 0.29532590508461}, {'id': 63, 'seek': 35014, 'start': 357.56, 'end': 359.56, 'text': \" And I'll tell her fun tonight\", 'tokens': [50735, 400, 286, 603, 980, 720, 1019, 4440, 50835], 'temperature': 0.0, 'avg_logprob': -0.5704374966556078, 'compression_ratio': 1.9739130434782608, 'no_speech_prob': 0.29532590508461}, {'id': 64, 'seek': 35014, 'start': 359.56, 'end': 362.8, 'text': \" I love you baby I don't need that love\", 'tokens': [50835, 286, 959, 291, 3186, 286, 500, 380, 643, 300, 959, 50997], 'temperature': 0.0, 'avg_logprob': -0.5704374966556078, 'compression_ratio': 1.9739130434782608, 'no_speech_prob': 0.29532590508461}, {'id': 65, 'seek': 35014, 'start': 362.8, 'end': 364.8, 'text': \" And I'll tell her fun tonight\", 'tokens': [50997, 400, 286, 603, 980, 720, 1019, 4440, 51097], 'temperature': 0.0, 'avg_logprob': -0.5704374966556078, 'compression_ratio': 1.9739130434782608, 'no_speech_prob': 0.29532590508461}, {'id': 66, 'seek': 35014, 'start': 364.8, 'end': 371.3, 'text': \" I love you baby I don't need no money\", 'tokens': [51097, 286, 959, 291, 3186, 286, 500, 380, 643, 572, 1460, 51422], 'temperature': 0.0, 'avg_logprob': -0.5704374966556078, 'compression_ratio': 1.9739130434782608, 'no_speech_prob': 0.29532590508461}, {'id': 67, 'seek': 35014, 'start': 371.3, 'end': 376.64, 'text': ' As long as I can feel the wind', 'tokens': [51422, 1018, 938, 382, 286, 393, 841, 264, 2468, 51689], 'temperature': 0.0, 'avg_logprob': -0.5704374966556078, 'compression_ratio': 1.9739130434782608, 'no_speech_prob': 0.29532590508461}, {'id': 68, 'seek': 37664, 'start': 376.64, 'end': 381.64, 'text': \" I don't need no money\", 'tokens': [50364, 286, 500, 380, 643, 572, 1460, 50614], 'temperature': 0.0, 'avg_logprob': -0.509288888228567, 'compression_ratio': 0.8813559322033898, 'no_speech_prob': 0.010915057733654976}, {'id': 69, 'seek': 37664, 'start': 381.64, 'end': 387.64, 'text': ' As long as I can feel the wind', 'tokens': [50614, 1018, 938, 382, 286, 393, 841, 264, 2468, 50914], 'temperature': 0.0, 'avg_logprob': -0.509288888228567, 'compression_ratio': 0.8813559322033898, 'no_speech_prob': 0.010915057733654976}, {'id': 70, 'seek': 40664, 'start': 406.64, 'end': 413.03999999999996, 'text': ' I love fake tropicals', 'tokens': [50390, 286, 959, 7592, 22857, 82, 50684], 'temperature': 1.0, 'avg_logprob': -3.6115691661834717, 'compression_ratio': 0.7241379310344828, 'no_speech_prob': 0.16166388988494873}, {'id': 71, 'seek': 43664, 'start': 436.64, 'end': 440.64, 'text': \" I just heard you found the one you've been looking\", 'tokens': [50364, 286, 445, 2198, 291, 1352, 264, 472, 291, 600, 668, 1237, 50564], 'temperature': 0.0, 'avg_logprob': -0.3210556535835726, 'compression_ratio': 1.505, 'no_speech_prob': 0.8307404518127441}, {'id': 72, 'seek': 43664, 'start': 440.64, 'end': 446.64, 'text': \" You were looking for I wish I would have known that wasn't me\", 'tokens': [50564, 509, 645, 1237, 337, 286, 3172, 286, 576, 362, 2570, 300, 2067, 380, 385, 50864], 'temperature': 0.0, 'avg_logprob': -0.3210556535835726, 'compression_ratio': 1.505, 'no_speech_prob': 0.8307404518127441}, {'id': 73, 'seek': 43664, 'start': 446.64, 'end': 450.64, 'text': ' Because even after all this time I still wonder', 'tokens': [50864, 1436, 754, 934, 439, 341, 565, 286, 920, 2441, 51064], 'temperature': 0.0, 'avg_logprob': -0.3210556535835726, 'compression_ratio': 1.505, 'no_speech_prob': 0.8307404518127441}, {'id': 74, 'seek': 43664, 'start': 450.64, 'end': 452.64, 'text': \" Why can't move on?\", 'tokens': [51064, 1545, 393, 380, 1286, 322, 30, 51164], 'temperature': 0.0, 'avg_logprob': -0.3210556535835726, 'compression_ratio': 1.505, 'no_speech_prob': 0.8307404518127441}, {'id': 75, 'seek': 43664, 'start': 452.64, 'end': 456.64, 'text': ' Just the way you did so easily', 'tokens': [51164, 1449, 264, 636, 291, 630, 370, 3612, 51364], 'temperature': 0.0, 'avg_logprob': -0.3210556535835726, 'compression_ratio': 1.505, 'no_speech_prob': 0.8307404518127441}, {'id': 76, 'seek': 43664, 'start': 456.64, 'end': 460.64, 'text': \" Don't wanna know, kinda dress you wear until night\", 'tokens': [51364, 1468, 380, 1948, 458, 11, 4144, 5231, 291, 3728, 1826, 1818, 51564], 'temperature': 0.0, 'avg_logprob': -0.3210556535835726, 'compression_ratio': 1.505, 'no_speech_prob': 0.8307404518127441}, {'id': 77, 'seek': 43664, 'start': 460.64, 'end': 462.64, 'text': \" If you're holding on to your soul tight\", 'tokens': [51564, 759, 291, 434, 5061, 322, 281, 428, 5133, 4524, 51664], 'temperature': 0.0, 'avg_logprob': -0.3210556535835726, 'compression_ratio': 1.505, 'no_speech_prob': 0.8307404518127441}, {'id': 78, 'seek': 46264, 'start': 462.64, 'end': 464.64, 'text': \" Where you're at it before\", 'tokens': [50364, 2305, 291, 434, 412, 309, 949, 50464], 'temperature': 0.0, 'avg_logprob': -0.2781817002729936, 'compression_ratio': 2.0314465408805034, 'no_speech_prob': 0.3100600242614746}, {'id': 79, 'seek': 46264, 'start': 464.64, 'end': 468.64, 'text': \" I'll go on soon enough, your love is a game\", 'tokens': [50464, 286, 603, 352, 322, 2321, 1547, 11, 428, 959, 307, 257, 1216, 50664], 'temperature': 0.0, 'avg_logprob': -0.2781817002729936, 'compression_ratio': 2.0314465408805034, 'no_speech_prob': 0.3100600242614746}, {'id': 80, 'seek': 46264, 'start': 468.64, 'end': 470.64, 'text': \" Now I can't get you out in my brain\", 'tokens': [50664, 823, 286, 393, 380, 483, 291, 484, 294, 452, 3567, 50764], 'temperature': 0.0, 'avg_logprob': -0.2781817002729936, 'compression_ratio': 2.0314465408805034, 'no_speech_prob': 0.3100600242614746}, {'id': 81, 'seek': 46264, 'start': 470.64, 'end': 472.64, 'text': \" Oh, it's such a shame\", 'tokens': [50764, 876, 11, 309, 311, 1270, 257, 10069, 50864], 'temperature': 0.0, 'avg_logprob': -0.2781817002729936, 'compression_ratio': 2.0314465408805034, 'no_speech_prob': 0.3100600242614746}, {'id': 82, 'seek': 46264, 'start': 472.64, 'end': 474.64, 'text': \" We don't talk anymore\", 'tokens': [50864, 492, 500, 380, 751, 3602, 50964], 'temperature': 0.0, 'avg_logprob': -0.2781817002729936, 'compression_ratio': 2.0314465408805034, 'no_speech_prob': 0.3100600242614746}, {'id': 83, 'seek': 46264, 'start': 474.64, 'end': 476.64, 'text': \" We don't talk anymore\", 'tokens': [50964, 492, 500, 380, 751, 3602, 51064], 'temperature': 0.0, 'avg_logprob': -0.2781817002729936, 'compression_ratio': 2.0314465408805034, 'no_speech_prob': 0.3100600242614746}, {'id': 84, 'seek': 46264, 'start': 476.64, 'end': 478.64, 'text': \" We don't talk anymore\", 'tokens': [51064, 492, 500, 380, 751, 3602, 51164], 'temperature': 0.0, 'avg_logprob': -0.2781817002729936, 'compression_ratio': 2.0314465408805034, 'no_speech_prob': 0.3100600242614746}, {'id': 85, 'seek': 46264, 'start': 478.64, 'end': 480.64, 'text': \" We don't talk anymore\", 'tokens': [51164, 492, 500, 380, 751, 3602, 51264], 'temperature': 0.0, 'avg_logprob': -0.2781817002729936, 'compression_ratio': 2.0314465408805034, 'no_speech_prob': 0.3100600242614746}, {'id': 86, 'seek': 46264, 'start': 480.64, 'end': 482.64, 'text': ' Like we used to do', 'tokens': [51264, 1743, 321, 1143, 281, 360, 51364], 'temperature': 0.0, 'avg_logprob': -0.2781817002729936, 'compression_ratio': 2.0314465408805034, 'no_speech_prob': 0.3100600242614746}, {'id': 87, 'seek': 46264, 'start': 482.64, 'end': 484.64, 'text': \" We don't laugh anymore\", 'tokens': [51364, 492, 500, 380, 5801, 3602, 51464], 'temperature': 0.0, 'avg_logprob': -0.2781817002729936, 'compression_ratio': 2.0314465408805034, 'no_speech_prob': 0.3100600242614746}, {'id': 88, 'seek': 46264, 'start': 484.64, 'end': 486.64, 'text': \" But what's all of it for\", 'tokens': [51464, 583, 437, 311, 439, 295, 309, 337, 51564], 'temperature': 0.0, 'avg_logprob': -0.2781817002729936, 'compression_ratio': 2.0314465408805034, 'no_speech_prob': 0.3100600242614746}, {'id': 89, 'seek': 46264, 'start': 486.64, 'end': 488.64, 'text': \" We don't talk anymore\", 'tokens': [51564, 492, 500, 380, 751, 3602, 51664], 'temperature': 0.0, 'avg_logprob': -0.2781817002729936, 'compression_ratio': 2.0314465408805034, 'no_speech_prob': 0.3100600242614746}, {'id': 90, 'seek': 46264, 'start': 488.64, 'end': 490.64, 'text': ' Like we used to do', 'tokens': [51664, 1743, 321, 1143, 281, 360, 51764], 'temperature': 0.0, 'avg_logprob': -0.2781817002729936, 'compression_ratio': 2.0314465408805034, 'no_speech_prob': 0.3100600242614746}, {'id': 91, 'seek': 49064, 'start': 490.64, 'end': 492.64, 'text': \" We don't talk anymore\", 'tokens': [50364, 492, 500, 380, 751, 3602, 50464], 'temperature': 0.0, 'avg_logprob': -0.18719269126974125, 'compression_ratio': 1.5365853658536586, 'no_speech_prob': 0.07916896045207977}, {'id': 92, 'seek': 49064, 'start': 492.64, 'end': 494.64, 'text': ' Like we used to do', 'tokens': [50464, 1743, 321, 1143, 281, 360, 50564], 'temperature': 0.0, 'avg_logprob': -0.18719269126974125, 'compression_ratio': 1.5365853658536586, 'no_speech_prob': 0.07916896045207977}, {'id': 93, 'seek': 49064, 'start': 494.64, 'end': 498.64, 'text': \" I just hope you're lying like somebody\", 'tokens': [50564, 286, 445, 1454, 291, 434, 8493, 411, 2618, 50764], 'temperature': 0.0, 'avg_logprob': -0.18719269126974125, 'compression_ratio': 1.5365853658536586, 'no_speech_prob': 0.07916896045207977}, {'id': 94, 'seek': 49064, 'start': 498.64, 'end': 500.64, 'text': ' And those kind of love you like me', 'tokens': [50764, 400, 729, 733, 295, 959, 291, 411, 385, 50864], 'temperature': 0.0, 'avg_logprob': -0.18719269126974125, 'compression_ratio': 1.5365853658536586, 'no_speech_prob': 0.07916896045207977}, {'id': 95, 'seek': 49064, 'start': 500.64, 'end': 504.64, 'text': \" Must be a good reason that you can't\", 'tokens': [50864, 13252, 312, 257, 665, 1778, 300, 291, 393, 380, 51064], 'temperature': 0.0, 'avg_logprob': -0.18719269126974125, 'compression_ratio': 1.5365853658536586, 'no_speech_prob': 0.07916896045207977}, {'id': 96, 'seek': 49064, 'start': 504.64, 'end': 510.64, 'text': ' But every now and then I think you might want to come show up at your door', 'tokens': [51064, 583, 633, 586, 293, 550, 286, 519, 291, 1062, 528, 281, 808, 855, 493, 412, 428, 2853, 51364], 'temperature': 0.0, 'avg_logprob': -0.18719269126974125, 'compression_ratio': 1.5365853658536586, 'no_speech_prob': 0.07916896045207977}, {'id': 97, 'seek': 49064, 'start': 510.64, 'end': 514.64, 'text': \" But I'm just too afraid that I'll be wrong\", 'tokens': [51364, 583, 286, 478, 445, 886, 4638, 300, 286, 603, 312, 2085, 51564], 'temperature': 0.0, 'avg_logprob': -0.18719269126974125, 'compression_ratio': 1.5365853658536586, 'no_speech_prob': 0.07916896045207977}, {'id': 98, 'seek': 49064, 'start': 514.64, 'end': 518.64, 'text': \" Don't wanna know, if you're looking new to it\", 'tokens': [51564, 1468, 380, 1948, 458, 11, 498, 291, 434, 1237, 777, 281, 309, 51764], 'temperature': 0.0, 'avg_logprob': -0.18719269126974125, 'compression_ratio': 1.5365853658536586, 'no_speech_prob': 0.07916896045207977}, {'id': 99, 'seek': 51864, 'start': 518.64, 'end': 520.64, 'text': \" I'm just holding on to your soul tight\", 'tokens': [50364, 286, 478, 445, 5061, 322, 281, 428, 5133, 4524, 50464], 'temperature': 0.0, 'avg_logprob': -0.13328145624517085, 'compression_ratio': 1.6545454545454545, 'no_speech_prob': 0.0626584142446518}, {'id': 100, 'seek': 51864, 'start': 520.64, 'end': 522.64, 'text': ' The way I took it before', 'tokens': [50464, 440, 636, 286, 1890, 309, 949, 50564], 'temperature': 0.0, 'avg_logprob': -0.13328145624517085, 'compression_ratio': 1.6545454545454545, 'no_speech_prob': 0.0626584142446518}, {'id': 101, 'seek': 51864, 'start': 522.64, 'end': 528.64, 'text': \" I'll go on soon enough, your love is a game\", 'tokens': [50564, 286, 603, 352, 322, 2321, 1547, 11, 428, 959, 307, 257, 1216, 50864], 'temperature': 0.0, 'avg_logprob': -0.13328145624517085, 'compression_ratio': 1.6545454545454545, 'no_speech_prob': 0.0626584142446518}, {'id': 102, 'seek': 51864, 'start': 528.64, 'end': 530.64, 'text': \" Now I can't get you out in my brain\", 'tokens': [50864, 823, 286, 393, 380, 483, 291, 484, 294, 452, 3567, 50964], 'temperature': 0.0, 'avg_logprob': -0.13328145624517085, 'compression_ratio': 1.6545454545454545, 'no_speech_prob': 0.0626584142446518}, {'id': 103, 'seek': 51864, 'start': 530.64, 'end': 532.64, 'text': \" Oh, it's such a shame\", 'tokens': [50964, 876, 11, 309, 311, 1270, 257, 10069, 51064], 'temperature': 0.0, 'avg_logprob': -0.13328145624517085, 'compression_ratio': 1.6545454545454545, 'no_speech_prob': 0.0626584142446518}, {'id': 104, 'seek': 51864, 'start': 532.64, 'end': 534.64, 'text': \" We don't talk anymore\", 'tokens': [51064, 492, 500, 380, 751, 3602, 51164], 'temperature': 0.0, 'avg_logprob': -0.13328145624517085, 'compression_ratio': 1.6545454545454545, 'no_speech_prob': 0.0626584142446518}, {'id': 105, 'seek': 51864, 'start': 534.64, 'end': 536.64, 'text': \" We don't talk anymore\", 'tokens': [51164, 492, 500, 380, 751, 3602, 51264], 'temperature': 0.0, 'avg_logprob': -0.13328145624517085, 'compression_ratio': 1.6545454545454545, 'no_speech_prob': 0.0626584142446518}, {'id': 106, 'seek': 51864, 'start': 536.64, 'end': 538.64, 'text': \" We don't talk anymore\", 'tokens': [51264, 492, 500, 380, 751, 3602, 51364], 'temperature': 0.0, 'avg_logprob': -0.13328145624517085, 'compression_ratio': 1.6545454545454545, 'no_speech_prob': 0.0626584142446518}, {'id': 107, 'seek': 51864, 'start': 538.64, 'end': 542.64, 'text': ' Like we used to do', 'tokens': [51364, 1743, 321, 1143, 281, 360, 51564], 'temperature': 0.0, 'avg_logprob': -0.13328145624517085, 'compression_ratio': 1.6545454545454545, 'no_speech_prob': 0.0626584142446518}, {'id': 108, 'seek': 51864, 'start': 542.64, 'end': 544.64, 'text': \" We don't laugh anymore\", 'tokens': [51564, 492, 500, 380, 5801, 3602, 51664], 'temperature': 0.0, 'avg_logprob': -0.13328145624517085, 'compression_ratio': 1.6545454545454545, 'no_speech_prob': 0.0626584142446518}, {'id': 109, 'seek': 54464, 'start': 544.64, 'end': 546.64, 'text': \" But what's all of it for\", 'tokens': [50364, 583, 437, 311, 439, 295, 309, 337, 50464], 'temperature': 0.6, 'avg_logprob': -0.22777300747958096, 'compression_ratio': 1.513157894736842, 'no_speech_prob': 0.02696543000638485}, {'id': 110, 'seek': 54464, 'start': 546.64, 'end': 548.64, 'text': \" We don't talk anymore\", 'tokens': [50464, 492, 500, 380, 751, 3602, 50564], 'temperature': 0.6, 'avg_logprob': -0.22777300747958096, 'compression_ratio': 1.513157894736842, 'no_speech_prob': 0.02696543000638485}, {'id': 111, 'seek': 54464, 'start': 548.64, 'end': 552.64, 'text': ' Like we used to do', 'tokens': [50564, 1743, 321, 1143, 281, 360, 50764], 'temperature': 0.6, 'avg_logprob': -0.22777300747958096, 'compression_ratio': 1.513157894736842, 'no_speech_prob': 0.02696543000638485}, {'id': 112, 'seek': 54464, 'start': 552.64, 'end': 554.64, 'text': ' Yeah', 'tokens': [50764, 865, 50864], 'temperature': 0.6, 'avg_logprob': -0.22777300747958096, 'compression_ratio': 1.513157894736842, 'no_speech_prob': 0.02696543000638485}, {'id': 113, 'seek': 54464, 'start': 554.64, 'end': 556.64, 'text': ' Yeah', 'tokens': [50864, 865, 50964], 'temperature': 0.6, 'avg_logprob': -0.22777300747958096, 'compression_ratio': 1.513157894736842, 'no_speech_prob': 0.02696543000638485}, {'id': 114, 'seek': 54464, 'start': 556.64, 'end': 558.64, 'text': ' Yeah', 'tokens': [50964, 865, 51064], 'temperature': 0.6, 'avg_logprob': -0.22777300747958096, 'compression_ratio': 1.513157894736842, 'no_speech_prob': 0.02696543000638485}, {'id': 115, 'seek': 54464, 'start': 558.64, 'end': 560.64, 'text': ' Yeah', 'tokens': [51064, 865, 51164], 'temperature': 0.6, 'avg_logprob': -0.22777300747958096, 'compression_ratio': 1.513157894736842, 'no_speech_prob': 0.02696543000638485}, {'id': 116, 'seek': 54464, 'start': 560.64, 'end': 562.64, 'text': ' Yeah', 'tokens': [51164, 865, 51264], 'temperature': 0.6, 'avg_logprob': -0.22777300747958096, 'compression_ratio': 1.513157894736842, 'no_speech_prob': 0.02696543000638485}, {'id': 117, 'seek': 54464, 'start': 562.64, 'end': 564.64, 'text': ' Yeah', 'tokens': [51264, 865, 51364], 'temperature': 0.6, 'avg_logprob': -0.22777300747958096, 'compression_ratio': 1.513157894736842, 'no_speech_prob': 0.02696543000638485}, {'id': 118, 'seek': 54464, 'start': 564.64, 'end': 566.64, 'text': ' Yeah', 'tokens': [51364, 865, 51464], 'temperature': 0.6, 'avg_logprob': -0.22777300747958096, 'compression_ratio': 1.513157894736842, 'no_speech_prob': 0.02696543000638485}, {'id': 119, 'seek': 54464, 'start': 566.64, 'end': 568.64, 'text': ' Yeah', 'tokens': [51464, 865, 51564], 'temperature': 0.6, 'avg_logprob': -0.22777300747958096, 'compression_ratio': 1.513157894736842, 'no_speech_prob': 0.02696543000638485}, {'id': 120, 'seek': 54464, 'start': 568.64, 'end': 570.64, 'text': ' Yeah', 'tokens': [51564, 865, 51664], 'temperature': 0.6, 'avg_logprob': -0.22777300747958096, 'compression_ratio': 1.513157894736842, 'no_speech_prob': 0.02696543000638485}, {'id': 121, 'seek': 54464, 'start': 570.64, 'end': 572.64, 'text': ' Yeah', 'tokens': [51664, 865, 51764], 'temperature': 0.6, 'avg_logprob': -0.22777300747958096, 'compression_ratio': 1.513157894736842, 'no_speech_prob': 0.02696543000638485}, {'id': 122, 'seek': 57264, 'start': 572.64, 'end': 576.24, 'text': \" I'm alone, I can't adjust you, I'm even too late\", 'tokens': [50364, 286, 478, 3312, 11, 286, 393, 380, 4369, 291, 11, 286, 478, 754, 886, 3469, 50544], 'temperature': 0.0, 'avg_logprob': -0.5783461811386537, 'compression_ratio': 1.625, 'no_speech_prob': 0.814955472946167}, {'id': 123, 'seek': 57264, 'start': 576.24, 'end': 578.76, 'text': \" If you're skimming, I'll tell you just right\", 'tokens': [50544, 759, 291, 434, 1110, 40471, 11, 286, 603, 980, 291, 445, 558, 50670], 'temperature': 0.0, 'avg_logprob': -0.5783461811386537, 'compression_ratio': 1.625, 'no_speech_prob': 0.814955472946167}, {'id': 124, 'seek': 57264, 'start': 578.76, 'end': 581.36, 'text': ' The way I did before', 'tokens': [50670, 440, 636, 286, 630, 949, 50800], 'temperature': 0.0, 'avg_logprob': -0.5783461811386537, 'compression_ratio': 1.625, 'no_speech_prob': 0.814955472946167}, {'id': 125, 'seek': 57264, 'start': 581.36, 'end': 585.8, 'text': \" I hope I'm cold, should I know my love is like a game?\", 'tokens': [50800, 286, 1454, 286, 478, 3554, 11, 820, 286, 458, 452, 959, 307, 411, 257, 1216, 30, 51022], 'temperature': 0.0, 'avg_logprob': -0.5783461811386537, 'compression_ratio': 1.625, 'no_speech_prob': 0.814955472946167}, {'id': 126, 'seek': 57264, 'start': 585.8, 'end': 588.4, 'text': \" Now I can't get you out of my brain\", 'tokens': [51022, 823, 286, 393, 380, 483, 291, 484, 295, 452, 3567, 51152], 'temperature': 0.0, 'avg_logprob': -0.5783461811386537, 'compression_ratio': 1.625, 'no_speech_prob': 0.814955472946167}, {'id': 127, 'seek': 57264, 'start': 588.4, 'end': 590.88, 'text': \" Oh, it's such a shame\", 'tokens': [51152, 876, 11, 309, 311, 1270, 257, 10069, 51276], 'temperature': 0.0, 'avg_logprob': -0.5783461811386537, 'compression_ratio': 1.625, 'no_speech_prob': 0.814955472946167}, {'id': 128, 'seek': 57264, 'start': 590.88, 'end': 593.24, 'text': \" We don't talk anymore\", 'tokens': [51276, 492, 500, 380, 751, 3602, 51394], 'temperature': 0.0, 'avg_logprob': -0.5783461811386537, 'compression_ratio': 1.625, 'no_speech_prob': 0.814955472946167}, {'id': 129, 'seek': 57264, 'start': 593.24, 'end': 595.76, 'text': \" We don't talk anymore\", 'tokens': [51394, 492, 500, 380, 751, 3602, 51520], 'temperature': 0.0, 'avg_logprob': -0.5783461811386537, 'compression_ratio': 1.625, 'no_speech_prob': 0.814955472946167}, {'id': 130, 'seek': 57264, 'start': 595.76, 'end': 597.24, 'text': \" We don't talk anymore\", 'tokens': [51520, 492, 500, 380, 751, 3602, 51594], 'temperature': 0.0, 'avg_logprob': -0.5783461811386537, 'compression_ratio': 1.625, 'no_speech_prob': 0.814955472946167}, {'id': 131, 'seek': 57264, 'start': 597.24, 'end': 600.64, 'text': ' Like we used to do', 'tokens': [51594, 1743, 321, 1143, 281, 360, 51764], 'temperature': 0.0, 'avg_logprob': -0.5783461811386537, 'compression_ratio': 1.625, 'no_speech_prob': 0.814955472946167}, {'id': 132, 'seek': 60064, 'start': 600.64, 'end': 602.64, 'text': \" We don't love anymore\", 'tokens': [50364, 492, 500, 380, 959, 3602, 50464], 'temperature': 0.0, 'avg_logprob': -0.33084551493326825, 'compression_ratio': 1.486842105263158, 'no_speech_prob': 0.044781699776649475}, {'id': 133, 'seek': 60064, 'start': 602.64, 'end': 605.64, 'text': \" We're both so loving for all\", 'tokens': [50464, 492, 434, 1293, 370, 9344, 337, 439, 50614], 'temperature': 0.0, 'avg_logprob': -0.33084551493326825, 'compression_ratio': 1.486842105263158, 'no_speech_prob': 0.044781699776649475}, {'id': 134, 'seek': 60064, 'start': 605.64, 'end': 606.64, 'text': \" We don't talk anymore\", 'tokens': [50614, 492, 500, 380, 751, 3602, 50664], 'temperature': 0.0, 'avg_logprob': -0.33084551493326825, 'compression_ratio': 1.486842105263158, 'no_speech_prob': 0.044781699776649475}, {'id': 135, 'seek': 60064, 'start': 606.64, 'end': 609.64, 'text': ' Like we used to do', 'tokens': [50664, 1743, 321, 1143, 281, 360, 50814], 'temperature': 0.0, 'avg_logprob': -0.33084551493326825, 'compression_ratio': 1.486842105263158, 'no_speech_prob': 0.044781699776649475}, {'id': 136, 'seek': 60064, 'start': 609.64, 'end': 611.64, 'text': \" We don't talk anymore\", 'tokens': [50814, 492, 500, 380, 751, 3602, 50914], 'temperature': 0.0, 'avg_logprob': -0.33084551493326825, 'compression_ratio': 1.486842105263158, 'no_speech_prob': 0.044781699776649475}, {'id': 137, 'seek': 60064, 'start': 611.64, 'end': 616.64, 'text': \" I hope I'm cold, should I know my love is like a game?\", 'tokens': [50914, 286, 1454, 286, 478, 3554, 11, 820, 286, 458, 452, 959, 307, 411, 257, 1216, 30, 51164], 'temperature': 0.0, 'avg_logprob': -0.33084551493326825, 'compression_ratio': 1.486842105263158, 'no_speech_prob': 0.044781699776649475}, {'id': 138, 'seek': 60064, 'start': 616.64, 'end': 619.64, 'text': \" Now I can't get you out of my brain\", 'tokens': [51164, 823, 286, 393, 380, 483, 291, 484, 295, 452, 3567, 51314], 'temperature': 0.0, 'avg_logprob': -0.33084551493326825, 'compression_ratio': 1.486842105263158, 'no_speech_prob': 0.044781699776649475}, {'id': 139, 'seek': 60064, 'start': 619.64, 'end': 628.64, 'text': \" Oh, it's such a shame\", 'tokens': [51314, 876, 11, 309, 311, 1270, 257, 10069, 51764], 'temperature': 0.0, 'avg_logprob': -0.33084551493326825, 'compression_ratio': 1.486842105263158, 'no_speech_prob': 0.044781699776649475}, {'id': 140, 'seek': 62864, 'start': 629.64, 'end': 631.64, 'text': \" We don't talk anymore\", 'tokens': [50414, 492, 500, 380, 751, 3602, 50514], 'temperature': 0.0, 'avg_logprob': -0.31198049726940336, 'compression_ratio': 0.9508196721311475, 'no_speech_prob': 0.03802703320980072}, {'id': 141, 'seek': 62864, 'start': 652.64, 'end': 654.64, 'text': ' I tell myself', 'tokens': [51564, 286, 980, 2059, 51664], 'temperature': 0.0, 'avg_logprob': -0.31198049726940336, 'compression_ratio': 0.9508196721311475, 'no_speech_prob': 0.03802703320980072}, {'id': 142, 'seek': 62864, 'start': 654.64, 'end': 657.64, 'text': \" You don't mean nothing\", 'tokens': [51664, 509, 500, 380, 914, 1825, 51814], 'temperature': 0.0, 'avg_logprob': -0.31198049726940336, 'compression_ratio': 0.9508196721311475, 'no_speech_prob': 0.03802703320980072}, {'id': 143, 'seek': 65764, 'start': 657.64, 'end': 659.64, 'text': \" I'm why we got\", 'tokens': [50364, 286, 478, 983, 321, 658, 50464], 'temperature': 0.0, 'avg_logprob': -0.16361616659855496, 'compression_ratio': 1.4028776978417266, 'no_speech_prob': 0.016002347692847252}, {'id': 144, 'seek': 65764, 'start': 659.64, 'end': 661.64, 'text': ' Got no hold on me', 'tokens': [50464, 5803, 572, 1797, 322, 385, 50564], 'temperature': 0.0, 'avg_logprob': -0.16361616659855496, 'compression_ratio': 1.4028776978417266, 'no_speech_prob': 0.016002347692847252}, {'id': 145, 'seek': 65764, 'start': 661.64, 'end': 665.64, 'text': \" But when you're not there\", 'tokens': [50564, 583, 562, 291, 434, 406, 456, 50764], 'temperature': 0.0, 'avg_logprob': -0.16361616659855496, 'compression_ratio': 1.4028776978417266, 'no_speech_prob': 0.016002347692847252}, {'id': 146, 'seek': 65764, 'start': 665.64, 'end': 667.64, 'text': ' I just crumble', 'tokens': [50764, 286, 445, 47478, 50864], 'temperature': 0.0, 'avg_logprob': -0.16361616659855496, 'compression_ratio': 1.4028776978417266, 'no_speech_prob': 0.016002347692847252}, {'id': 147, 'seek': 65764, 'start': 667.64, 'end': 669.64, 'text': ' I tell myself', 'tokens': [50864, 286, 980, 2059, 50964], 'temperature': 0.0, 'avg_logprob': -0.16361616659855496, 'compression_ratio': 1.4028776978417266, 'no_speech_prob': 0.016002347692847252}, {'id': 148, 'seek': 65764, 'start': 669.64, 'end': 672.64, 'text': \" I don't care that much\", 'tokens': [50964, 286, 500, 380, 1127, 300, 709, 51114], 'temperature': 0.0, 'avg_logprob': -0.16361616659855496, 'compression_ratio': 1.4028776978417266, 'no_speech_prob': 0.016002347692847252}, {'id': 149, 'seek': 65764, 'start': 672.64, 'end': 675.64, 'text': ' But I feel like I died', 'tokens': [51114, 583, 286, 841, 411, 286, 4539, 51264], 'temperature': 0.0, 'avg_logprob': -0.16361616659855496, 'compression_ratio': 1.4028776978417266, 'no_speech_prob': 0.016002347692847252}, {'id': 150, 'seek': 65764, 'start': 675.64, 'end': 677.64, 'text': ' Tell I feel your touch', 'tokens': [51264, 5115, 286, 841, 428, 2557, 51364], 'temperature': 0.0, 'avg_logprob': -0.16361616659855496, 'compression_ratio': 1.4028776978417266, 'no_speech_prob': 0.016002347692847252}, {'id': 151, 'seek': 65764, 'start': 677.64, 'end': 680.64, 'text': ' Only love', 'tokens': [51364, 5686, 959, 51514], 'temperature': 0.0, 'avg_logprob': -0.16361616659855496, 'compression_ratio': 1.4028776978417266, 'no_speech_prob': 0.016002347692847252}, {'id': 152, 'seek': 65764, 'start': 680.64, 'end': 685.64, 'text': ' Only love can hurt like this', 'tokens': [51514, 5686, 959, 393, 4607, 411, 341, 51764], 'temperature': 0.0, 'avg_logprob': -0.16361616659855496, 'compression_ratio': 1.4028776978417266, 'no_speech_prob': 0.016002347692847252}, {'id': 153, 'seek': 68564, 'start': 685.64, 'end': 690.64, 'text': ' Only love can hurt like this', 'tokens': [50364, 5686, 959, 393, 4607, 411, 341, 50614], 'temperature': 0.0, 'avg_logprob': -0.1588932234665443, 'compression_ratio': 1.462686567164179, 'no_speech_prob': 0.011909972876310349}, {'id': 154, 'seek': 68564, 'start': 690.64, 'end': 695.64, 'text': ' Must have been worth it because', 'tokens': [50614, 13252, 362, 668, 3163, 309, 570, 50864], 'temperature': 0.0, 'avg_logprob': -0.1588932234665443, 'compression_ratio': 1.462686567164179, 'no_speech_prob': 0.011909972876310349}, {'id': 155, 'seek': 68564, 'start': 695.64, 'end': 699.64, 'text': ' Only love can hurt like this', 'tokens': [50864, 5686, 959, 393, 4607, 411, 341, 51064], 'temperature': 0.0, 'avg_logprob': -0.1588932234665443, 'compression_ratio': 1.462686567164179, 'no_speech_prob': 0.011909972876310349}, {'id': 156, 'seek': 68564, 'start': 699.64, 'end': 704.64, 'text': \" I wouldn't care if you walked away\", 'tokens': [51064, 286, 2759, 380, 1127, 498, 291, 7628, 1314, 51314], 'temperature': 0.0, 'avg_logprob': -0.1588932234665443, 'compression_ratio': 1.462686567164179, 'no_speech_prob': 0.011909972876310349}, {'id': 157, 'seek': 68564, 'start': 704.64, 'end': 706.64, 'text': \" But every time you're there\", 'tokens': [51314, 583, 633, 565, 291, 434, 456, 51414], 'temperature': 0.0, 'avg_logprob': -0.1588932234665443, 'compression_ratio': 1.462686567164179, 'no_speech_prob': 0.011909972876310349}, {'id': 158, 'seek': 68564, 'start': 706.64, 'end': 708.64, 'text': \" I'm begging you to stay\", 'tokens': [51414, 286, 478, 26600, 291, 281, 1754, 51514], 'temperature': 0.0, 'avg_logprob': -0.1588932234665443, 'compression_ratio': 1.462686567164179, 'no_speech_prob': 0.011909972876310349}, {'id': 159, 'seek': 68564, 'start': 708.64, 'end': 712.64, 'text': ' When you come close', 'tokens': [51514, 1133, 291, 808, 1998, 51714], 'temperature': 0.0, 'avg_logprob': -0.1588932234665443, 'compression_ratio': 1.462686567164179, 'no_speech_prob': 0.011909972876310349}, {'id': 160, 'seek': 71264, 'start': 712.64, 'end': 715.64, 'text': ' I just crumble', 'tokens': [50364, 286, 445, 47478, 50514], 'temperature': 0.0, 'avg_logprob': -0.11960322901887714, 'compression_ratio': 1.485981308411215, 'no_speech_prob': 0.031988367438316345}, {'id': 161, 'seek': 71264, 'start': 715.64, 'end': 717.64, 'text': ' And every time', 'tokens': [50514, 400, 633, 565, 50614], 'temperature': 0.0, 'avg_logprob': -0.11960322901887714, 'compression_ratio': 1.485981308411215, 'no_speech_prob': 0.031988367438316345}, {'id': 162, 'seek': 71264, 'start': 717.64, 'end': 720.64, 'text': ' Every time you go', 'tokens': [50614, 2048, 565, 291, 352, 50764], 'temperature': 0.0, 'avg_logprob': -0.11960322901887714, 'compression_ratio': 1.485981308411215, 'no_speech_prob': 0.031988367438316345}, {'id': 163, 'seek': 71264, 'start': 720.64, 'end': 722.64, 'text': \" It's like a knife\", 'tokens': [50764, 467, 311, 411, 257, 7976, 50864], 'temperature': 0.0, 'avg_logprob': -0.11960322901887714, 'compression_ratio': 1.485981308411215, 'no_speech_prob': 0.031988367438316345}, {'id': 164, 'seek': 71264, 'start': 722.64, 'end': 725.64, 'text': ' That cut right to my soul', 'tokens': [50864, 663, 1723, 558, 281, 452, 5133, 51014], 'temperature': 0.0, 'avg_logprob': -0.11960322901887714, 'compression_ratio': 1.485981308411215, 'no_speech_prob': 0.031988367438316345}, {'id': 165, 'seek': 71264, 'start': 725.64, 'end': 727.64, 'text': ' Only love', 'tokens': [51014, 5686, 959, 51114], 'temperature': 0.0, 'avg_logprob': -0.11960322901887714, 'compression_ratio': 1.485981308411215, 'no_speech_prob': 0.031988367438316345}, {'id': 166, 'seek': 71264, 'start': 727.64, 'end': 732.64, 'text': ' Only love can hurt like this', 'tokens': [51114, 5686, 959, 393, 4607, 411, 341, 51364], 'temperature': 0.0, 'avg_logprob': -0.11960322901887714, 'compression_ratio': 1.485981308411215, 'no_speech_prob': 0.031988367438316345}, {'id': 167, 'seek': 71264, 'start': 732.64, 'end': 737.64, 'text': ' Only love can hurt like this', 'tokens': [51364, 5686, 959, 393, 4607, 411, 341, 51614], 'temperature': 0.0, 'avg_logprob': -0.11960322901887714, 'compression_ratio': 1.485981308411215, 'no_speech_prob': 0.031988367438316345}, {'id': 168, 'seek': 73764, 'start': 737.64, 'end': 742.64, 'text': ' Must have been worth it because', 'tokens': [50364, 13252, 362, 668, 3163, 309, 570, 50614], 'temperature': 0.0, 'avg_logprob': -0.17657159095586733, 'compression_ratio': 1.7325581395348837, 'no_speech_prob': 0.24771332740783691}, {'id': 169, 'seek': 73764, 'start': 742.64, 'end': 747.64, 'text': ' Only love can hurt like this', 'tokens': [50614, 5686, 959, 393, 4607, 411, 341, 50864], 'temperature': 0.0, 'avg_logprob': -0.17657159095586733, 'compression_ratio': 1.7325581395348837, 'no_speech_prob': 0.24771332740783691}, {'id': 170, 'seek': 73764, 'start': 747.64, 'end': 753.64, 'text': ' Only love can hurt like this', 'tokens': [50864, 5686, 959, 393, 4607, 411, 341, 51164], 'temperature': 0.0, 'avg_logprob': -0.17657159095586733, 'compression_ratio': 1.7325581395348837, 'no_speech_prob': 0.24771332740783691}, {'id': 171, 'seek': 73764, 'start': 753.64, 'end': 758.64, 'text': ' Your kiss is done into my skin', 'tokens': [51164, 2260, 7704, 307, 1096, 666, 452, 3178, 51414], 'temperature': 0.0, 'avg_logprob': -0.17657159095586733, 'compression_ratio': 1.7325581395348837, 'no_speech_prob': 0.24771332740783691}, {'id': 172, 'seek': 73764, 'start': 758.64, 'end': 764.64, 'text': ' Only love can hurt like this', 'tokens': [51414, 5686, 959, 393, 4607, 411, 341, 51714], 'temperature': 0.0, 'avg_logprob': -0.17657159095586733, 'compression_ratio': 1.7325581395348837, 'no_speech_prob': 0.24771332740783691}, {'id': 173, 'seek': 76464, 'start': 765.64, 'end': 769.64, 'text': ' But if the sweetest pain', 'tokens': [50414, 583, 498, 264, 3844, 377, 1822, 50614], 'temperature': 0.0, 'avg_logprob': -0.30154285932842056, 'compression_ratio': 1.1584158415841583, 'no_speech_prob': 0.01453544944524765}, {'id': 174, 'seek': 76464, 'start': 769.64, 'end': 772.64, 'text': ' Burning heart', 'tokens': [50614, 43905, 1917, 50764], 'temperature': 0.0, 'avg_logprob': -0.30154285932842056, 'compression_ratio': 1.1584158415841583, 'no_speech_prob': 0.01453544944524765}, {'id': 175, 'seek': 76464, 'start': 772.64, 'end': 774.64, 'text': ' Through my veins', 'tokens': [50764, 8927, 452, 29390, 50864], 'temperature': 0.0, 'avg_logprob': -0.30154285932842056, 'compression_ratio': 1.1584158415841583, 'no_speech_prob': 0.01453544944524765}, {'id': 176, 'seek': 76464, 'start': 774.64, 'end': 777.64, 'text': ' Love is torture', 'tokens': [50864, 5956, 307, 20711, 51014], 'temperature': 0.0, 'avg_logprob': -0.30154285932842056, 'compression_ratio': 1.1584158415841583, 'no_speech_prob': 0.01453544944524765}, {'id': 177, 'seek': 76464, 'start': 777.64, 'end': 781.64, 'text': ' Pages me more so', 'tokens': [51014, 430, 1660, 385, 544, 370, 51214], 'temperature': 0.0, 'avg_logprob': -0.30154285932842056, 'compression_ratio': 1.1584158415841583, 'no_speech_prob': 0.01453544944524765}, {'id': 178, 'seek': 76464, 'start': 781.64, 'end': 787.64, 'text': ' Only love can hurt like this', 'tokens': [51214, 5686, 959, 393, 4607, 411, 341, 51514], 'temperature': 0.0, 'avg_logprob': -0.30154285932842056, 'compression_ratio': 1.1584158415841583, 'no_speech_prob': 0.01453544944524765}, {'id': 179, 'seek': 79464, 'start': 794.64, 'end': 801.64, 'text': ' Only love can hurt like this', 'tokens': [50364, 5686, 959, 393, 4607, 411, 341, 50714], 'temperature': 0.0, 'avg_logprob': -0.07682037921178908, 'compression_ratio': 2.0704225352112675, 'no_speech_prob': 0.040938600897789}, {'id': 180, 'seek': 79464, 'start': 801.64, 'end': 807.64, 'text': ' Only love can hurt like this', 'tokens': [50714, 5686, 959, 393, 4607, 411, 341, 51014], 'temperature': 0.0, 'avg_logprob': -0.07682037921178908, 'compression_ratio': 2.0704225352112675, 'no_speech_prob': 0.040938600897789}, {'id': 181, 'seek': 79464, 'start': 807.64, 'end': 812.64, 'text': ' Must have been worth it because', 'tokens': [51014, 13252, 362, 668, 3163, 309, 570, 51264], 'temperature': 0.0, 'avg_logprob': -0.07682037921178908, 'compression_ratio': 2.0704225352112675, 'no_speech_prob': 0.040938600897789}, {'id': 182, 'seek': 79464, 'start': 812.64, 'end': 817.64, 'text': ' Only love can hurt like this', 'tokens': [51264, 5686, 959, 393, 4607, 411, 341, 51514], 'temperature': 0.0, 'avg_logprob': -0.07682037921178908, 'compression_ratio': 2.0704225352112675, 'no_speech_prob': 0.040938600897789}, {'id': 183, 'seek': 79464, 'start': 817.64, 'end': 823.64, 'text': ' Only love can hurt like this', 'tokens': [51514, 5686, 959, 393, 4607, 411, 341, 51814], 'temperature': 0.0, 'avg_logprob': -0.07682037921178908, 'compression_ratio': 2.0704225352112675, 'no_speech_prob': 0.040938600897789}, {'id': 184, 'seek': 82364, 'start': 823.64, 'end': 828.64, 'text': ' Your kiss is done into my skin', 'tokens': [50364, 2260, 7704, 307, 1096, 666, 452, 3178, 50614], 'temperature': 0.0, 'avg_logprob': -0.2068516413370768, 'compression_ratio': 1.3333333333333333, 'no_speech_prob': 0.002962911268696189}, {'id': 185, 'seek': 82364, 'start': 828.64, 'end': 839.64, 'text': ' Only love can hurt like this', 'tokens': [50614, 5686, 959, 393, 4607, 411, 341, 51164], 'temperature': 0.0, 'avg_logprob': -0.2068516413370768, 'compression_ratio': 1.3333333333333333, 'no_speech_prob': 0.002962911268696189}, {'id': 186, 'seek': 82364, 'start': 839.64, 'end': 845.64, 'text': ' Only love can hurt like this', 'tokens': [51164, 5686, 959, 393, 4607, 411, 341, 51464], 'temperature': 0.0, 'avg_logprob': -0.2068516413370768, 'compression_ratio': 1.3333333333333333, 'no_speech_prob': 0.002962911268696189}, {'id': 187, 'seek': 84564, 'start': 845.64, 'end': 851.64, 'text': ' Only love can hurt like this', 'tokens': [50364, 5686, 959, 393, 4607, 411, 341, 50664], 'temperature': 0.0, 'avg_logprob': -0.2599799999823937, 'compression_ratio': 1.2916666666666667, 'no_speech_prob': 0.2237328141927719}, {'id': 188, 'seek': 84564, 'start': 851.64, 'end': 858.64, 'text': ' Only love can hurt like this', 'tokens': [50664, 5686, 959, 393, 4607, 411, 341, 51014], 'temperature': 0.0, 'avg_logprob': -0.2599799999823937, 'compression_ratio': 1.2916666666666667, 'no_speech_prob': 0.2237328141927719}, {'id': 189, 'seek': 84564, 'start': 858.64, 'end': 865.64, 'text': ' And must have been worth it because', 'tokens': [51014, 400, 1633, 362, 668, 3163, 309, 570, 51364], 'temperature': 0.0, 'avg_logprob': -0.2599799999823937, 'compression_ratio': 1.2916666666666667, 'no_speech_prob': 0.2237328141927719}], 'language': 'en'}\n"
     ]
    }
   ],
   "source": [
    "import whisper\n",
    "\n",
    "model = whisper.load_model(\"base\")\n",
    "result = model.transcribe('output_audio.mp3')\n",
    "#save it in txt file"
   ]
  },
  {
   "cell_type": "code",
   "execution_count": 9,
   "metadata": {},
   "outputs": [
    {
     "name": "stdout",
     "output_type": "stream",
     "text": [
      "Transcription saved to transcribed_text.txt\n"
     ]
    }
   ],
   "source": [
    "import whisper\n",
    "\n",
    "# Load the Whisper model\n",
    "model = whisper.load_model(\"base\")  # You can use \"small\", \"medium\", or \"large\" for better accuracy\n",
    "\n",
    "# Transcribe the audio file\n",
    "audio_file = \"output_audio.mp3\"  # Replace with the path to your audio file\n",
    "result = model.transcribe(audio_file)\n",
    "\n",
    "# Extract the transcribed text\n",
    "transcribed_text = result[\"text\"]\n",
    "\n",
    "# Save the transcribed text to a .txt file\n",
    "output_txt_file = \"transcribed_text.txt\"  # Name of the output text file\n",
    "with open(output_txt_file, \"w\") as file:\n",
    "    file.write(transcribed_text)\n",
    "\n",
    "print(f\"Transcription saved to {output_txt_file}\")"
   ]
  },
  {
   "cell_type": "code",
   "execution_count": 1,
   "metadata": {},
   "outputs": [
    {
     "name": "stdout",
     "output_type": "stream",
     "text": [
      "Collecting langchain_huggingface\n",
      "  Downloading langchain_huggingface-0.1.2-py3-none-any.whl.metadata (1.3 kB)\n",
      "Collecting huggingface-hub>=0.23.0 (from langchain_huggingface)\n",
      "  Downloading huggingface_hub-0.29.3-py3-none-any.whl.metadata (13 kB)\n",
      "Collecting langchain-core<0.4.0,>=0.3.15 (from langchain_huggingface)\n",
      "  Downloading langchain_core-0.3.44-py3-none-any.whl.metadata (5.9 kB)\n",
      "Collecting sentence-transformers>=2.6.0 (from langchain_huggingface)\n",
      "  Downloading sentence_transformers-3.4.1-py3-none-any.whl.metadata (10 kB)\n",
      "Collecting tokenizers>=0.19.1 (from langchain_huggingface)\n",
      "  Downloading tokenizers-0.21.0-cp39-abi3-manylinux_2_17_x86_64.manylinux2014_x86_64.whl.metadata (6.7 kB)\n",
      "Collecting transformers>=4.39.0 (from langchain_huggingface)\n",
      "  Downloading transformers-4.49.0-py3-none-any.whl.metadata (44 kB)\n",
      "Requirement already satisfied: filelock in ./.venv/lib/python3.13/site-packages (from huggingface-hub>=0.23.0->langchain_huggingface) (3.17.0)\n",
      "Requirement already satisfied: fsspec>=2023.5.0 in ./.venv/lib/python3.13/site-packages (from huggingface-hub>=0.23.0->langchain_huggingface) (2025.3.0)\n",
      "Requirement already satisfied: packaging>=20.9 in ./.venv/lib/python3.13/site-packages (from huggingface-hub>=0.23.0->langchain_huggingface) (24.2)\n",
      "Collecting pyyaml>=5.1 (from huggingface-hub>=0.23.0->langchain_huggingface)\n",
      "  Downloading PyYAML-6.0.2-cp313-cp313-manylinux_2_17_x86_64.manylinux2014_x86_64.whl.metadata (2.1 kB)\n",
      "Requirement already satisfied: requests in ./.venv/lib/python3.13/site-packages (from huggingface-hub>=0.23.0->langchain_huggingface) (2.32.3)\n",
      "Requirement already satisfied: tqdm>=4.42.1 in ./.venv/lib/python3.13/site-packages (from huggingface-hub>=0.23.0->langchain_huggingface) (4.67.1)\n",
      "Requirement already satisfied: typing-extensions>=3.7.4.3 in ./.venv/lib/python3.13/site-packages (from huggingface-hub>=0.23.0->langchain_huggingface) (4.12.2)\n",
      "Collecting langsmith<0.4,>=0.1.125 (from langchain-core<0.4.0,>=0.3.15->langchain_huggingface)\n",
      "  Downloading langsmith-0.3.13-py3-none-any.whl.metadata (14 kB)\n",
      "Collecting tenacity!=8.4.0,<10.0.0,>=8.1.0 (from langchain-core<0.4.0,>=0.3.15->langchain_huggingface)\n",
      "  Downloading tenacity-9.0.0-py3-none-any.whl.metadata (1.2 kB)\n",
      "Collecting jsonpatch<2.0,>=1.33 (from langchain-core<0.4.0,>=0.3.15->langchain_huggingface)\n",
      "  Downloading jsonpatch-1.33-py2.py3-none-any.whl.metadata (3.0 kB)\n",
      "Collecting pydantic<3.0.0,>=2.7.4 (from langchain-core<0.4.0,>=0.3.15->langchain_huggingface)\n",
      "  Downloading pydantic-2.10.6-py3-none-any.whl.metadata (30 kB)\n",
      "Requirement already satisfied: torch>=1.11.0 in ./.venv/lib/python3.13/site-packages (from sentence-transformers>=2.6.0->langchain_huggingface) (2.6.0)\n",
      "Collecting scikit-learn (from sentence-transformers>=2.6.0->langchain_huggingface)\n",
      "  Downloading scikit_learn-1.6.1-cp313-cp313-manylinux_2_17_x86_64.manylinux2014_x86_64.whl.metadata (18 kB)\n",
      "Collecting scipy (from sentence-transformers>=2.6.0->langchain_huggingface)\n",
      "  Downloading scipy-1.15.2-cp313-cp313-manylinux_2_17_x86_64.manylinux2014_x86_64.whl.metadata (61 kB)\n",
      "Collecting Pillow (from sentence-transformers>=2.6.0->langchain_huggingface)\n",
      "  Downloading pillow-11.1.0-cp313-cp313-manylinux_2_28_x86_64.whl.metadata (9.1 kB)\n",
      "Requirement already satisfied: numpy>=1.17 in ./.venv/lib/python3.13/site-packages (from transformers>=4.39.0->langchain_huggingface) (2.1.3)\n",
      "Requirement already satisfied: regex!=2019.12.17 in ./.venv/lib/python3.13/site-packages (from transformers>=4.39.0->langchain_huggingface) (2024.11.6)\n",
      "Collecting safetensors>=0.4.1 (from transformers>=4.39.0->langchain_huggingface)\n",
      "  Downloading safetensors-0.5.3-cp38-abi3-manylinux_2_17_x86_64.manylinux2014_x86_64.whl.metadata (3.8 kB)\n",
      "Collecting jsonpointer>=1.9 (from jsonpatch<2.0,>=1.33->langchain-core<0.4.0,>=0.3.15->langchain_huggingface)\n",
      "  Downloading jsonpointer-3.0.0-py2.py3-none-any.whl.metadata (2.3 kB)\n",
      "Collecting httpx<1,>=0.23.0 (from langsmith<0.4,>=0.1.125->langchain-core<0.4.0,>=0.3.15->langchain_huggingface)\n",
      "  Downloading httpx-0.28.1-py3-none-any.whl.metadata (7.1 kB)\n",
      "Collecting orjson<4.0.0,>=3.9.14 (from langsmith<0.4,>=0.1.125->langchain-core<0.4.0,>=0.3.15->langchain_huggingface)\n",
      "  Downloading orjson-3.10.15-cp313-cp313-manylinux_2_17_x86_64.manylinux2014_x86_64.whl.metadata (41 kB)\n",
      "Collecting requests-toolbelt<2.0.0,>=1.0.0 (from langsmith<0.4,>=0.1.125->langchain-core<0.4.0,>=0.3.15->langchain_huggingface)\n",
      "  Downloading requests_toolbelt-1.0.0-py2.py3-none-any.whl.metadata (14 kB)\n",
      "Collecting zstandard<0.24.0,>=0.23.0 (from langsmith<0.4,>=0.1.125->langchain-core<0.4.0,>=0.3.15->langchain_huggingface)\n",
      "  Downloading zstandard-0.23.0-cp313-cp313-manylinux_2_17_x86_64.manylinux2014_x86_64.whl.metadata (3.0 kB)\n",
      "Collecting annotated-types>=0.6.0 (from pydantic<3.0.0,>=2.7.4->langchain-core<0.4.0,>=0.3.15->langchain_huggingface)\n",
      "  Downloading annotated_types-0.7.0-py3-none-any.whl.metadata (15 kB)\n",
      "Collecting pydantic-core==2.27.2 (from pydantic<3.0.0,>=2.7.4->langchain-core<0.4.0,>=0.3.15->langchain_huggingface)\n",
      "  Downloading pydantic_core-2.27.2-cp313-cp313-manylinux_2_17_x86_64.manylinux2014_x86_64.whl.metadata (6.6 kB)\n",
      "Requirement already satisfied: charset-normalizer<4,>=2 in ./.venv/lib/python3.13/site-packages (from requests->huggingface-hub>=0.23.0->langchain_huggingface) (3.4.1)\n",
      "Requirement already satisfied: idna<4,>=2.5 in ./.venv/lib/python3.13/site-packages (from requests->huggingface-hub>=0.23.0->langchain_huggingface) (3.10)\n",
      "Requirement already satisfied: urllib3<3,>=1.21.1 in ./.venv/lib/python3.13/site-packages (from requests->huggingface-hub>=0.23.0->langchain_huggingface) (2.3.0)\n",
      "Requirement already satisfied: certifi>=2017.4.17 in ./.venv/lib/python3.13/site-packages (from requests->huggingface-hub>=0.23.0->langchain_huggingface) (2025.1.31)\n",
      "Requirement already satisfied: networkx in ./.venv/lib/python3.13/site-packages (from torch>=1.11.0->sentence-transformers>=2.6.0->langchain_huggingface) (3.4.2)\n",
      "Requirement already satisfied: jinja2 in ./.venv/lib/python3.13/site-packages (from torch>=1.11.0->sentence-transformers>=2.6.0->langchain_huggingface) (3.1.6)\n",
      "Requirement already satisfied: nvidia-cuda-nvrtc-cu12==12.4.127 in ./.venv/lib/python3.13/site-packages (from torch>=1.11.0->sentence-transformers>=2.6.0->langchain_huggingface) (12.4.127)\n",
      "Requirement already satisfied: nvidia-cuda-runtime-cu12==12.4.127 in ./.venv/lib/python3.13/site-packages (from torch>=1.11.0->sentence-transformers>=2.6.0->langchain_huggingface) (12.4.127)\n",
      "Requirement already satisfied: nvidia-cuda-cupti-cu12==12.4.127 in ./.venv/lib/python3.13/site-packages (from torch>=1.11.0->sentence-transformers>=2.6.0->langchain_huggingface) (12.4.127)\n",
      "Requirement already satisfied: nvidia-cudnn-cu12==9.1.0.70 in ./.venv/lib/python3.13/site-packages (from torch>=1.11.0->sentence-transformers>=2.6.0->langchain_huggingface) (9.1.0.70)\n",
      "Requirement already satisfied: nvidia-cublas-cu12==12.4.5.8 in ./.venv/lib/python3.13/site-packages (from torch>=1.11.0->sentence-transformers>=2.6.0->langchain_huggingface) (12.4.5.8)\n",
      "Requirement already satisfied: nvidia-cufft-cu12==11.2.1.3 in ./.venv/lib/python3.13/site-packages (from torch>=1.11.0->sentence-transformers>=2.6.0->langchain_huggingface) (11.2.1.3)\n",
      "Requirement already satisfied: nvidia-curand-cu12==10.3.5.147 in ./.venv/lib/python3.13/site-packages (from torch>=1.11.0->sentence-transformers>=2.6.0->langchain_huggingface) (10.3.5.147)\n",
      "Requirement already satisfied: nvidia-cusolver-cu12==11.6.1.9 in ./.venv/lib/python3.13/site-packages (from torch>=1.11.0->sentence-transformers>=2.6.0->langchain_huggingface) (11.6.1.9)\n",
      "Requirement already satisfied: nvidia-cusparse-cu12==12.3.1.170 in ./.venv/lib/python3.13/site-packages (from torch>=1.11.0->sentence-transformers>=2.6.0->langchain_huggingface) (12.3.1.170)\n",
      "Requirement already satisfied: nvidia-cusparselt-cu12==0.6.2 in ./.venv/lib/python3.13/site-packages (from torch>=1.11.0->sentence-transformers>=2.6.0->langchain_huggingface) (0.6.2)\n",
      "Requirement already satisfied: nvidia-nccl-cu12==2.21.5 in ./.venv/lib/python3.13/site-packages (from torch>=1.11.0->sentence-transformers>=2.6.0->langchain_huggingface) (2.21.5)\n",
      "Requirement already satisfied: nvidia-nvtx-cu12==12.4.127 in ./.venv/lib/python3.13/site-packages (from torch>=1.11.0->sentence-transformers>=2.6.0->langchain_huggingface) (12.4.127)\n",
      "Requirement already satisfied: nvidia-nvjitlink-cu12==12.4.127 in ./.venv/lib/python3.13/site-packages (from torch>=1.11.0->sentence-transformers>=2.6.0->langchain_huggingface) (12.4.127)\n",
      "Requirement already satisfied: triton==3.2.0 in ./.venv/lib/python3.13/site-packages (from torch>=1.11.0->sentence-transformers>=2.6.0->langchain_huggingface) (3.2.0)\n",
      "Requirement already satisfied: setuptools in ./.venv/lib/python3.13/site-packages (from torch>=1.11.0->sentence-transformers>=2.6.0->langchain_huggingface) (76.0.0)\n",
      "Requirement already satisfied: sympy==1.13.1 in ./.venv/lib/python3.13/site-packages (from torch>=1.11.0->sentence-transformers>=2.6.0->langchain_huggingface) (1.13.1)\n",
      "Requirement already satisfied: mpmath<1.4,>=1.1.0 in ./.venv/lib/python3.13/site-packages (from sympy==1.13.1->torch>=1.11.0->sentence-transformers>=2.6.0->langchain_huggingface) (1.3.0)\n",
      "Collecting joblib>=1.2.0 (from scikit-learn->sentence-transformers>=2.6.0->langchain_huggingface)\n",
      "  Downloading joblib-1.4.2-py3-none-any.whl.metadata (5.4 kB)\n",
      "Collecting threadpoolctl>=3.1.0 (from scikit-learn->sentence-transformers>=2.6.0->langchain_huggingface)\n",
      "  Downloading threadpoolctl-3.5.0-py3-none-any.whl.metadata (13 kB)\n",
      "Collecting anyio (from httpx<1,>=0.23.0->langsmith<0.4,>=0.1.125->langchain-core<0.4.0,>=0.3.15->langchain_huggingface)\n",
      "  Downloading anyio-4.8.0-py3-none-any.whl.metadata (4.6 kB)\n",
      "Collecting httpcore==1.* (from httpx<1,>=0.23.0->langsmith<0.4,>=0.1.125->langchain-core<0.4.0,>=0.3.15->langchain_huggingface)\n",
      "  Downloading httpcore-1.0.7-py3-none-any.whl.metadata (21 kB)\n",
      "Collecting h11<0.15,>=0.13 (from httpcore==1.*->httpx<1,>=0.23.0->langsmith<0.4,>=0.1.125->langchain-core<0.4.0,>=0.3.15->langchain_huggingface)\n",
      "  Downloading h11-0.14.0-py3-none-any.whl.metadata (8.2 kB)\n",
      "Requirement already satisfied: MarkupSafe>=2.0 in ./.venv/lib/python3.13/site-packages (from jinja2->torch>=1.11.0->sentence-transformers>=2.6.0->langchain_huggingface) (3.0.2)\n",
      "Collecting sniffio>=1.1 (from anyio->httpx<1,>=0.23.0->langsmith<0.4,>=0.1.125->langchain-core<0.4.0,>=0.3.15->langchain_huggingface)\n",
      "  Downloading sniffio-1.3.1-py3-none-any.whl.metadata (3.9 kB)\n",
      "Downloading langchain_huggingface-0.1.2-py3-none-any.whl (21 kB)\n",
      "Downloading huggingface_hub-0.29.3-py3-none-any.whl (468 kB)\n",
      "Downloading langchain_core-0.3.44-py3-none-any.whl (415 kB)\n",
      "Downloading sentence_transformers-3.4.1-py3-none-any.whl (275 kB)\n",
      "Downloading tokenizers-0.21.0-cp39-abi3-manylinux_2_17_x86_64.manylinux2014_x86_64.whl (3.0 MB)\n",
      "\u001b[2K   \u001b[90m━━━━━━━━━━━━━━━━━━━━━━━━━━━━━━━━━━━━━━━━\u001b[0m \u001b[32m3.0/3.0 MB\u001b[0m \u001b[31m9.6 MB/s\u001b[0m eta \u001b[36m0:00:00\u001b[0mta \u001b[36m0:00:01\u001b[0m\n",
      "\u001b[?25hDownloading transformers-4.49.0-py3-none-any.whl (10.0 MB)\n",
      "\u001b[2K   \u001b[90m━━━━━━━━━━━━━━━━━━━━━━━━━━━━━━━━━━━━━━━━\u001b[0m \u001b[32m10.0/10.0 MB\u001b[0m \u001b[31m8.7 MB/s\u001b[0m eta \u001b[36m0:00:00\u001b[0m00:01\u001b[0m0:01\u001b[0mm\n",
      "\u001b[?25hDownloading jsonpatch-1.33-py2.py3-none-any.whl (12 kB)\n",
      "Downloading langsmith-0.3.13-py3-none-any.whl (339 kB)\n",
      "Downloading pydantic-2.10.6-py3-none-any.whl (431 kB)\n",
      "Downloading pydantic_core-2.27.2-cp313-cp313-manylinux_2_17_x86_64.manylinux2014_x86_64.whl (2.0 MB)\n",
      "\u001b[2K   \u001b[90m━━━━━━━━━━━━━━━━━━━━━━━━━━━━━━━━━━━━━━━━\u001b[0m \u001b[32m2.0/2.0 MB\u001b[0m \u001b[31m10.0 MB/s\u001b[0m eta \u001b[36m0:00:00\u001b[0m\n",
      "\u001b[?25hDownloading PyYAML-6.0.2-cp313-cp313-manylinux_2_17_x86_64.manylinux2014_x86_64.whl (759 kB)\n",
      "\u001b[2K   \u001b[90m━━━━━━━━━━━━━━━━━━━━━━━━━━━━━━━━━━━━━━━━\u001b[0m \u001b[32m759.5/759.5 kB\u001b[0m \u001b[31m5.9 MB/s\u001b[0m eta \u001b[36m0:00:00\u001b[0m\n",
      "\u001b[?25hDownloading safetensors-0.5.3-cp38-abi3-manylinux_2_17_x86_64.manylinux2014_x86_64.whl (471 kB)\n",
      "Downloading tenacity-9.0.0-py3-none-any.whl (28 kB)\n",
      "Downloading pillow-11.1.0-cp313-cp313-manylinux_2_28_x86_64.whl (4.5 MB)\n",
      "\u001b[2K   \u001b[90m━━━━━━━━━━━━━━━━━━━━━━━━━━━━━━━━━━━━━━━━\u001b[0m \u001b[32m4.5/4.5 MB\u001b[0m \u001b[31m9.3 MB/s\u001b[0m eta \u001b[36m0:00:00\u001b[0m:00:01\u001b[0m00:01\u001b[0m\n",
      "\u001b[?25hDownloading scikit_learn-1.6.1-cp313-cp313-manylinux_2_17_x86_64.manylinux2014_x86_64.whl (13.2 MB)\n",
      "\u001b[2K   \u001b[90m━━━━━━━━━━━━━━━━━━━━━━━━━━━━━━━━━━━━━━━━\u001b[0m \u001b[32m13.2/13.2 MB\u001b[0m \u001b[31m8.8 MB/s\u001b[0m eta \u001b[36m0:00:00\u001b[0m00:01\u001b[0m00:01\u001b[0m\n",
      "\u001b[?25hDownloading scipy-1.15.2-cp313-cp313-manylinux_2_17_x86_64.manylinux2014_x86_64.whl (37.3 MB)\n",
      "\u001b[2K   \u001b[90m━━━━━━━━━━━━━━━━━━━━━━━━━━━━━━━━━━━━━━━━\u001b[0m \u001b[32m37.3/37.3 MB\u001b[0m \u001b[31m8.8 MB/s\u001b[0m eta \u001b[36m0:00:00\u001b[0m00:01\u001b[0m00:01\u001b[0mm\n",
      "\u001b[?25hDownloading annotated_types-0.7.0-py3-none-any.whl (13 kB)\n",
      "Downloading httpx-0.28.1-py3-none-any.whl (73 kB)\n",
      "Downloading httpcore-1.0.7-py3-none-any.whl (78 kB)\n",
      "Downloading joblib-1.4.2-py3-none-any.whl (301 kB)\n",
      "Downloading jsonpointer-3.0.0-py2.py3-none-any.whl (7.6 kB)\n",
      "Downloading orjson-3.10.15-cp313-cp313-manylinux_2_17_x86_64.manylinux2014_x86_64.whl (130 kB)\n",
      "Downloading requests_toolbelt-1.0.0-py2.py3-none-any.whl (54 kB)\n",
      "Downloading threadpoolctl-3.5.0-py3-none-any.whl (18 kB)\n",
      "Downloading zstandard-0.23.0-cp313-cp313-manylinux_2_17_x86_64.manylinux2014_x86_64.whl (5.4 MB)\n",
      "\u001b[2K   \u001b[90m━━━━━━━━━━━━━━━━━━━━━━━━━━━━━━━━━━━━━━━━\u001b[0m \u001b[32m5.4/5.4 MB\u001b[0m \u001b[31m7.1 MB/s\u001b[0m eta \u001b[36m0:00:00\u001b[0ma \u001b[36m0:00:01\u001b[0m\n",
      "\u001b[?25hDownloading anyio-4.8.0-py3-none-any.whl (96 kB)\n",
      "Downloading h11-0.14.0-py3-none-any.whl (58 kB)\n",
      "Downloading sniffio-1.3.1-py3-none-any.whl (10 kB)\n",
      "Installing collected packages: zstandard, threadpoolctl, tenacity, sniffio, scipy, safetensors, pyyaml, pydantic-core, Pillow, orjson, jsonpointer, joblib, h11, annotated-types, scikit-learn, requests-toolbelt, pydantic, jsonpatch, huggingface-hub, httpcore, anyio, tokenizers, httpx, transformers, langsmith, sentence-transformers, langchain-core, langchain_huggingface\n",
      "Successfully installed Pillow-11.1.0 annotated-types-0.7.0 anyio-4.8.0 h11-0.14.0 httpcore-1.0.7 httpx-0.28.1 huggingface-hub-0.29.3 joblib-1.4.2 jsonpatch-1.33 jsonpointer-3.0.0 langchain-core-0.3.44 langchain_huggingface-0.1.2 langsmith-0.3.13 orjson-3.10.15 pydantic-2.10.6 pydantic-core-2.27.2 pyyaml-6.0.2 requests-toolbelt-1.0.0 safetensors-0.5.3 scikit-learn-1.6.1 scipy-1.15.2 sentence-transformers-3.4.1 sniffio-1.3.1 tenacity-9.0.0 threadpoolctl-3.5.0 tokenizers-0.21.0 transformers-4.49.0 zstandard-0.23.0\n",
      "Note: you may need to restart the kernel to use updated packages.\n"
     ]
    }
   ],
   "source": [
    "pip install langchain_huggingface"
   ]
  },
  {
   "cell_type": "code",
   "execution_count": 2,
   "metadata": {},
   "outputs": [],
   "source": [
    "import langchain_huggingface"
   ]
  },
  {
   "cell_type": "code",
   "execution_count": 3,
   "metadata": {},
   "outputs": [
    {
     "name": "stderr",
     "output_type": "stream",
     "text": [
      "/home/hemil/Desktop/LLM/.venv/lib/python3.13/site-packages/tqdm/auto.py:21: TqdmWarning: IProgress not found. Please update jupyter and ipywidgets. See https://ipywidgets.readthedocs.io/en/stable/user_install.html\n",
      "  from .autonotebook import tqdm as notebook_tqdm\n"
     ]
    },
    {
     "ename": "KeyboardInterrupt",
     "evalue": "",
     "output_type": "error",
     "traceback": [
      "\u001b[31m---------------------------------------------------------------------------\u001b[39m",
      "\u001b[31mKeyboardInterrupt\u001b[39m                         Traceback (most recent call last)",
      "\u001b[36mCell\u001b[39m\u001b[36m \u001b[39m\u001b[32mIn[3]\u001b[39m\u001b[32m, line 8\u001b[39m\n\u001b[32m      2\u001b[39m \u001b[38;5;28;01mimport\u001b[39;00m\u001b[38;5;250m \u001b[39m\u001b[34;01mos\u001b[39;00m\n\u001b[32m      5\u001b[39m \u001b[38;5;66;03m# os.environ['HF_HOME'] = 'D:/huggingface_cache'\u001b[39;00m\n\u001b[32m----> \u001b[39m\u001b[32m8\u001b[39m llm = \u001b[43mHuggingFacePipeline\u001b[49m\u001b[43m.\u001b[49m\u001b[43mfrom_model_id\u001b[49m\u001b[43m(\u001b[49m\n\u001b[32m      9\u001b[39m \u001b[43m    \u001b[49m\u001b[43mmodel_id\u001b[49m\u001b[43m=\u001b[49m\u001b[33;43m'\u001b[39;49m\u001b[33;43mTinyLlama/TinyLlama-1.1B-Chat-v1.0\u001b[39;49m\u001b[33;43m'\u001b[39;49m\u001b[43m,\u001b[49m\n\u001b[32m     10\u001b[39m \u001b[43m    \u001b[49m\u001b[43mtask\u001b[49m\u001b[43m=\u001b[49m\u001b[33;43m'\u001b[39;49m\u001b[33;43mtext-generation\u001b[39;49m\u001b[33;43m'\u001b[39;49m\u001b[43m,\u001b[49m\n\u001b[32m     11\u001b[39m \u001b[43m    \u001b[49m\u001b[43mpipeline_kwargs\u001b[49m\u001b[43m=\u001b[49m\u001b[38;5;28;43mdict\u001b[39;49m\u001b[43m(\u001b[49m\n\u001b[32m     12\u001b[39m \u001b[43m        \u001b[49m\u001b[43mtemperature\u001b[49m\u001b[43m=\u001b[49m\u001b[32;43m0.5\u001b[39;49m\u001b[43m,\u001b[49m\n\u001b[32m     13\u001b[39m \u001b[43m        \u001b[49m\u001b[43mmax_new_tokens\u001b[49m\u001b[43m=\u001b[49m\u001b[32;43m100\u001b[39;49m\n\u001b[32m     14\u001b[39m \u001b[43m    \u001b[49m\u001b[43m)\u001b[49m\n\u001b[32m     15\u001b[39m \u001b[43m)\u001b[49m\n\u001b[32m     16\u001b[39m model = ChatHuggingFace(llm=llm)\n\u001b[32m     19\u001b[39m result = model.invoke(\u001b[33m\"\u001b[39m\u001b[33mWhat is the capital of Gujarat\u001b[39m\u001b[33m\"\u001b[39m)\n",
      "\u001b[36mFile \u001b[39m\u001b[32m~/Desktop/LLM/.venv/lib/python3.13/site-packages/langchain_huggingface/llms/huggingface_pipeline.py:155\u001b[39m, in \u001b[36mHuggingFacePipeline.from_model_id\u001b[39m\u001b[34m(cls, model_id, task, backend, device, device_map, model_kwargs, pipeline_kwargs, batch_size, **kwargs)\u001b[39m\n\u001b[32m    151\u001b[39m             model = OVModelForCausalLM.from_pretrained(\n\u001b[32m    152\u001b[39m                 model_id, export=\u001b[38;5;28;01mTrue\u001b[39;00m, **_model_kwargs\n\u001b[32m    153\u001b[39m             )\n\u001b[32m    154\u001b[39m     \u001b[38;5;28;01melse\u001b[39;00m:\n\u001b[32m--> \u001b[39m\u001b[32m155\u001b[39m         model = \u001b[43mAutoModelForCausalLM\u001b[49m\u001b[43m.\u001b[49m\u001b[43mfrom_pretrained\u001b[49m\u001b[43m(\u001b[49m\n\u001b[32m    156\u001b[39m \u001b[43m            \u001b[49m\u001b[43mmodel_id\u001b[49m\u001b[43m,\u001b[49m\u001b[43m \u001b[49m\u001b[43m*\u001b[49m\u001b[43m*\u001b[49m\u001b[43m_model_kwargs\u001b[49m\n\u001b[32m    157\u001b[39m \u001b[43m        \u001b[49m\u001b[43m)\u001b[49m\n\u001b[32m    158\u001b[39m \u001b[38;5;28;01melif\u001b[39;00m task \u001b[38;5;129;01min\u001b[39;00m (\u001b[33m\"\u001b[39m\u001b[33mtext2text-generation\u001b[39m\u001b[33m\"\u001b[39m, \u001b[33m\"\u001b[39m\u001b[33msummarization\u001b[39m\u001b[33m\"\u001b[39m, \u001b[33m\"\u001b[39m\u001b[33mtranslation\u001b[39m\u001b[33m\"\u001b[39m):\n\u001b[32m    159\u001b[39m     \u001b[38;5;28;01mif\u001b[39;00m backend == \u001b[33m\"\u001b[39m\u001b[33mopenvino\u001b[39m\u001b[33m\"\u001b[39m:\n",
      "\u001b[36mFile \u001b[39m\u001b[32m~/Desktop/LLM/.venv/lib/python3.13/site-packages/transformers/models/auto/auto_factory.py:564\u001b[39m, in \u001b[36m_BaseAutoModelClass.from_pretrained\u001b[39m\u001b[34m(cls, pretrained_model_name_or_path, *model_args, **kwargs)\u001b[39m\n\u001b[32m    562\u001b[39m \u001b[38;5;28;01melif\u001b[39;00m \u001b[38;5;28mtype\u001b[39m(config) \u001b[38;5;129;01min\u001b[39;00m \u001b[38;5;28mcls\u001b[39m._model_mapping.keys():\n\u001b[32m    563\u001b[39m     model_class = _get_model_class(config, \u001b[38;5;28mcls\u001b[39m._model_mapping)\n\u001b[32m--> \u001b[39m\u001b[32m564\u001b[39m     \u001b[38;5;28;01mreturn\u001b[39;00m \u001b[43mmodel_class\u001b[49m\u001b[43m.\u001b[49m\u001b[43mfrom_pretrained\u001b[49m\u001b[43m(\u001b[49m\n\u001b[32m    565\u001b[39m \u001b[43m        \u001b[49m\u001b[43mpretrained_model_name_or_path\u001b[49m\u001b[43m,\u001b[49m\u001b[43m \u001b[49m\u001b[43m*\u001b[49m\u001b[43mmodel_args\u001b[49m\u001b[43m,\u001b[49m\u001b[43m \u001b[49m\u001b[43mconfig\u001b[49m\u001b[43m=\u001b[49m\u001b[43mconfig\u001b[49m\u001b[43m,\u001b[49m\u001b[43m \u001b[49m\u001b[43m*\u001b[49m\u001b[43m*\u001b[49m\u001b[43mhub_kwargs\u001b[49m\u001b[43m,\u001b[49m\u001b[43m \u001b[49m\u001b[43m*\u001b[49m\u001b[43m*\u001b[49m\u001b[43mkwargs\u001b[49m\n\u001b[32m    566\u001b[39m \u001b[43m    \u001b[49m\u001b[43m)\u001b[49m\n\u001b[32m    567\u001b[39m \u001b[38;5;28;01mraise\u001b[39;00m \u001b[38;5;167;01mValueError\u001b[39;00m(\n\u001b[32m    568\u001b[39m     \u001b[33mf\u001b[39m\u001b[33m\"\u001b[39m\u001b[33mUnrecognized configuration class \u001b[39m\u001b[38;5;132;01m{\u001b[39;00mconfig.\u001b[34m__class__\u001b[39m\u001b[38;5;132;01m}\u001b[39;00m\u001b[33m for this kind of AutoModel: \u001b[39m\u001b[38;5;132;01m{\u001b[39;00m\u001b[38;5;28mcls\u001b[39m.\u001b[34m__name__\u001b[39m\u001b[38;5;132;01m}\u001b[39;00m\u001b[33m.\u001b[39m\u001b[38;5;130;01m\\n\u001b[39;00m\u001b[33m\"\u001b[39m\n\u001b[32m    569\u001b[39m     \u001b[33mf\u001b[39m\u001b[33m\"\u001b[39m\u001b[33mModel type should be one of \u001b[39m\u001b[38;5;132;01m{\u001b[39;00m\u001b[33m'\u001b[39m\u001b[33m, \u001b[39m\u001b[33m'\u001b[39m.join(c.\u001b[34m__name__\u001b[39m\u001b[38;5;250m \u001b[39m\u001b[38;5;28;01mfor\u001b[39;00m\u001b[38;5;250m \u001b[39mc\u001b[38;5;250m \u001b[39m\u001b[38;5;129;01min\u001b[39;00m\u001b[38;5;250m \u001b[39m\u001b[38;5;28mcls\u001b[39m._model_mapping.keys())\u001b[38;5;132;01m}\u001b[39;00m\u001b[33m.\u001b[39m\u001b[33m\"\u001b[39m\n\u001b[32m    570\u001b[39m )\n",
      "\u001b[36mFile \u001b[39m\u001b[32m~/Desktop/LLM/.venv/lib/python3.13/site-packages/transformers/modeling_utils.py:262\u001b[39m, in \u001b[36mrestore_default_torch_dtype.<locals>._wrapper\u001b[39m\u001b[34m(*args, **kwargs)\u001b[39m\n\u001b[32m    260\u001b[39m old_dtype = torch.get_default_dtype()\n\u001b[32m    261\u001b[39m \u001b[38;5;28;01mtry\u001b[39;00m:\n\u001b[32m--> \u001b[39m\u001b[32m262\u001b[39m     \u001b[38;5;28;01mreturn\u001b[39;00m \u001b[43mfunc\u001b[49m\u001b[43m(\u001b[49m\u001b[43m*\u001b[49m\u001b[43margs\u001b[49m\u001b[43m,\u001b[49m\u001b[43m \u001b[49m\u001b[43m*\u001b[49m\u001b[43m*\u001b[49m\u001b[43mkwargs\u001b[49m\u001b[43m)\u001b[49m\n\u001b[32m    263\u001b[39m \u001b[38;5;28;01mfinally\u001b[39;00m:\n\u001b[32m    264\u001b[39m     torch.set_default_dtype(old_dtype)\n",
      "\u001b[36mFile \u001b[39m\u001b[32m~/Desktop/LLM/.venv/lib/python3.13/site-packages/transformers/modeling_utils.py:3854\u001b[39m, in \u001b[36mPreTrainedModel.from_pretrained\u001b[39m\u001b[34m(cls, pretrained_model_name_or_path, config, cache_dir, ignore_mismatched_sizes, force_download, local_files_only, token, revision, use_safetensors, weights_only, *model_args, **kwargs)\u001b[39m\n\u001b[32m   3838\u001b[39m \u001b[38;5;28;01mtry\u001b[39;00m:\n\u001b[32m   3839\u001b[39m     \u001b[38;5;66;03m# Load from URL or cache if already cached\u001b[39;00m\n\u001b[32m   3840\u001b[39m     cached_file_kwargs = {\n\u001b[32m   3841\u001b[39m         \u001b[33m\"\u001b[39m\u001b[33mcache_dir\u001b[39m\u001b[33m\"\u001b[39m: cache_dir,\n\u001b[32m   3842\u001b[39m         \u001b[33m\"\u001b[39m\u001b[33mforce_download\u001b[39m\u001b[33m\"\u001b[39m: force_download,\n\u001b[32m   (...)\u001b[39m\u001b[32m   3852\u001b[39m         \u001b[33m\"\u001b[39m\u001b[33m_commit_hash\u001b[39m\u001b[33m\"\u001b[39m: commit_hash,\n\u001b[32m   3853\u001b[39m     }\n\u001b[32m-> \u001b[39m\u001b[32m3854\u001b[39m     resolved_archive_file = \u001b[43mcached_file\u001b[49m\u001b[43m(\u001b[49m\u001b[43mpretrained_model_name_or_path\u001b[49m\u001b[43m,\u001b[49m\u001b[43m \u001b[49m\u001b[43mfilename\u001b[49m\u001b[43m,\u001b[49m\u001b[43m \u001b[49m\u001b[43m*\u001b[49m\u001b[43m*\u001b[49m\u001b[43mcached_file_kwargs\u001b[49m\u001b[43m)\u001b[49m\n\u001b[32m   3856\u001b[39m     \u001b[38;5;66;03m# Since we set _raise_exceptions_for_missing_entries=False, we don't get an exception but a None\u001b[39;00m\n\u001b[32m   3857\u001b[39m     \u001b[38;5;66;03m# result when internet is up, the repo and revision exist, but the file does not.\u001b[39;00m\n\u001b[32m   3858\u001b[39m     \u001b[38;5;28;01mif\u001b[39;00m resolved_archive_file \u001b[38;5;129;01mis\u001b[39;00m \u001b[38;5;28;01mNone\u001b[39;00m \u001b[38;5;129;01mand\u001b[39;00m filename == _add_variant(SAFE_WEIGHTS_NAME, variant):\n\u001b[32m   3859\u001b[39m         \u001b[38;5;66;03m# Maybe the checkpoint is sharded, we try to grab the index name in this case.\u001b[39;00m\n",
      "\u001b[36mFile \u001b[39m\u001b[32m~/Desktop/LLM/.venv/lib/python3.13/site-packages/transformers/utils/hub.py:342\u001b[39m, in \u001b[36mcached_file\u001b[39m\u001b[34m(path_or_repo_id, filename, cache_dir, force_download, resume_download, proxies, token, revision, local_files_only, subfolder, repo_type, user_agent, _raise_exceptions_for_gated_repo, _raise_exceptions_for_missing_entries, _raise_exceptions_for_connection_errors, _commit_hash, **deprecated_kwargs)\u001b[39m\n\u001b[32m    339\u001b[39m user_agent = http_user_agent(user_agent)\n\u001b[32m    340\u001b[39m \u001b[38;5;28;01mtry\u001b[39;00m:\n\u001b[32m    341\u001b[39m     \u001b[38;5;66;03m# Load from URL or cache if already cached\u001b[39;00m\n\u001b[32m--> \u001b[39m\u001b[32m342\u001b[39m     resolved_file = \u001b[43mhf_hub_download\u001b[49m\u001b[43m(\u001b[49m\n\u001b[32m    343\u001b[39m \u001b[43m        \u001b[49m\u001b[43mpath_or_repo_id\u001b[49m\u001b[43m,\u001b[49m\n\u001b[32m    344\u001b[39m \u001b[43m        \u001b[49m\u001b[43mfilename\u001b[49m\u001b[43m,\u001b[49m\n\u001b[32m    345\u001b[39m \u001b[43m        \u001b[49m\u001b[43msubfolder\u001b[49m\u001b[43m=\u001b[49m\u001b[38;5;28;43;01mNone\u001b[39;49;00m\u001b[43m \u001b[49m\u001b[38;5;28;43;01mif\u001b[39;49;00m\u001b[43m \u001b[49m\u001b[38;5;28;43mlen\u001b[39;49m\u001b[43m(\u001b[49m\u001b[43msubfolder\u001b[49m\u001b[43m)\u001b[49m\u001b[43m \u001b[49m\u001b[43m==\u001b[49m\u001b[43m \u001b[49m\u001b[32;43m0\u001b[39;49m\u001b[43m \u001b[49m\u001b[38;5;28;43;01melse\u001b[39;49;00m\u001b[43m \u001b[49m\u001b[43msubfolder\u001b[49m\u001b[43m,\u001b[49m\n\u001b[32m    346\u001b[39m \u001b[43m        \u001b[49m\u001b[43mrepo_type\u001b[49m\u001b[43m=\u001b[49m\u001b[43mrepo_type\u001b[49m\u001b[43m,\u001b[49m\n\u001b[32m    347\u001b[39m \u001b[43m        \u001b[49m\u001b[43mrevision\u001b[49m\u001b[43m=\u001b[49m\u001b[43mrevision\u001b[49m\u001b[43m,\u001b[49m\n\u001b[32m    348\u001b[39m \u001b[43m        \u001b[49m\u001b[43mcache_dir\u001b[49m\u001b[43m=\u001b[49m\u001b[43mcache_dir\u001b[49m\u001b[43m,\u001b[49m\n\u001b[32m    349\u001b[39m \u001b[43m        \u001b[49m\u001b[43muser_agent\u001b[49m\u001b[43m=\u001b[49m\u001b[43muser_agent\u001b[49m\u001b[43m,\u001b[49m\n\u001b[32m    350\u001b[39m \u001b[43m        \u001b[49m\u001b[43mforce_download\u001b[49m\u001b[43m=\u001b[49m\u001b[43mforce_download\u001b[49m\u001b[43m,\u001b[49m\n\u001b[32m    351\u001b[39m \u001b[43m        \u001b[49m\u001b[43mproxies\u001b[49m\u001b[43m=\u001b[49m\u001b[43mproxies\u001b[49m\u001b[43m,\u001b[49m\n\u001b[32m    352\u001b[39m \u001b[43m        \u001b[49m\u001b[43mresume_download\u001b[49m\u001b[43m=\u001b[49m\u001b[43mresume_download\u001b[49m\u001b[43m,\u001b[49m\n\u001b[32m    353\u001b[39m \u001b[43m        \u001b[49m\u001b[43mtoken\u001b[49m\u001b[43m=\u001b[49m\u001b[43mtoken\u001b[49m\u001b[43m,\u001b[49m\n\u001b[32m    354\u001b[39m \u001b[43m        \u001b[49m\u001b[43mlocal_files_only\u001b[49m\u001b[43m=\u001b[49m\u001b[43mlocal_files_only\u001b[49m\u001b[43m,\u001b[49m\n\u001b[32m    355\u001b[39m \u001b[43m    \u001b[49m\u001b[43m)\u001b[49m\n\u001b[32m    356\u001b[39m \u001b[38;5;28;01mexcept\u001b[39;00m GatedRepoError \u001b[38;5;28;01mas\u001b[39;00m e:\n\u001b[32m    357\u001b[39m     resolved_file = _get_cache_file_to_return(path_or_repo_id, full_filename, cache_dir, revision)\n",
      "\u001b[36mFile \u001b[39m\u001b[32m~/Desktop/LLM/.venv/lib/python3.13/site-packages/huggingface_hub/utils/_validators.py:114\u001b[39m, in \u001b[36mvalidate_hf_hub_args.<locals>._inner_fn\u001b[39m\u001b[34m(*args, **kwargs)\u001b[39m\n\u001b[32m    111\u001b[39m \u001b[38;5;28;01mif\u001b[39;00m check_use_auth_token:\n\u001b[32m    112\u001b[39m     kwargs = smoothly_deprecate_use_auth_token(fn_name=fn.\u001b[34m__name__\u001b[39m, has_token=has_token, kwargs=kwargs)\n\u001b[32m--> \u001b[39m\u001b[32m114\u001b[39m \u001b[38;5;28;01mreturn\u001b[39;00m \u001b[43mfn\u001b[49m\u001b[43m(\u001b[49m\u001b[43m*\u001b[49m\u001b[43margs\u001b[49m\u001b[43m,\u001b[49m\u001b[43m \u001b[49m\u001b[43m*\u001b[49m\u001b[43m*\u001b[49m\u001b[43mkwargs\u001b[49m\u001b[43m)\u001b[49m\n",
      "\u001b[36mFile \u001b[39m\u001b[32m~/Desktop/LLM/.venv/lib/python3.13/site-packages/huggingface_hub/file_download.py:862\u001b[39m, in \u001b[36mhf_hub_download\u001b[39m\u001b[34m(repo_id, filename, subfolder, repo_type, revision, library_name, library_version, cache_dir, local_dir, user_agent, force_download, proxies, etag_timeout, token, local_files_only, headers, endpoint, resume_download, force_filename, local_dir_use_symlinks)\u001b[39m\n\u001b[32m    842\u001b[39m     \u001b[38;5;28;01mreturn\u001b[39;00m _hf_hub_download_to_local_dir(\n\u001b[32m    843\u001b[39m         \u001b[38;5;66;03m# Destination\u001b[39;00m\n\u001b[32m    844\u001b[39m         local_dir=local_dir,\n\u001b[32m   (...)\u001b[39m\u001b[32m    859\u001b[39m         local_files_only=local_files_only,\n\u001b[32m    860\u001b[39m     )\n\u001b[32m    861\u001b[39m \u001b[38;5;28;01melse\u001b[39;00m:\n\u001b[32m--> \u001b[39m\u001b[32m862\u001b[39m     \u001b[38;5;28;01mreturn\u001b[39;00m \u001b[43m_hf_hub_download_to_cache_dir\u001b[49m\u001b[43m(\u001b[49m\n\u001b[32m    863\u001b[39m \u001b[43m        \u001b[49m\u001b[38;5;66;43;03m# Destination\u001b[39;49;00m\n\u001b[32m    864\u001b[39m \u001b[43m        \u001b[49m\u001b[43mcache_dir\u001b[49m\u001b[43m=\u001b[49m\u001b[43mcache_dir\u001b[49m\u001b[43m,\u001b[49m\n\u001b[32m    865\u001b[39m \u001b[43m        \u001b[49m\u001b[38;5;66;43;03m# File info\u001b[39;49;00m\n\u001b[32m    866\u001b[39m \u001b[43m        \u001b[49m\u001b[43mrepo_id\u001b[49m\u001b[43m=\u001b[49m\u001b[43mrepo_id\u001b[49m\u001b[43m,\u001b[49m\n\u001b[32m    867\u001b[39m \u001b[43m        \u001b[49m\u001b[43mfilename\u001b[49m\u001b[43m=\u001b[49m\u001b[43mfilename\u001b[49m\u001b[43m,\u001b[49m\n\u001b[32m    868\u001b[39m \u001b[43m        \u001b[49m\u001b[43mrepo_type\u001b[49m\u001b[43m=\u001b[49m\u001b[43mrepo_type\u001b[49m\u001b[43m,\u001b[49m\n\u001b[32m    869\u001b[39m \u001b[43m        \u001b[49m\u001b[43mrevision\u001b[49m\u001b[43m=\u001b[49m\u001b[43mrevision\u001b[49m\u001b[43m,\u001b[49m\n\u001b[32m    870\u001b[39m \u001b[43m        \u001b[49m\u001b[38;5;66;43;03m# HTTP info\u001b[39;49;00m\n\u001b[32m    871\u001b[39m \u001b[43m        \u001b[49m\u001b[43mendpoint\u001b[49m\u001b[43m=\u001b[49m\u001b[43mendpoint\u001b[49m\u001b[43m,\u001b[49m\n\u001b[32m    872\u001b[39m \u001b[43m        \u001b[49m\u001b[43metag_timeout\u001b[49m\u001b[43m=\u001b[49m\u001b[43metag_timeout\u001b[49m\u001b[43m,\u001b[49m\n\u001b[32m    873\u001b[39m \u001b[43m        \u001b[49m\u001b[43mheaders\u001b[49m\u001b[43m=\u001b[49m\u001b[43mhf_headers\u001b[49m\u001b[43m,\u001b[49m\n\u001b[32m    874\u001b[39m \u001b[43m        \u001b[49m\u001b[43mproxies\u001b[49m\u001b[43m=\u001b[49m\u001b[43mproxies\u001b[49m\u001b[43m,\u001b[49m\n\u001b[32m    875\u001b[39m \u001b[43m        \u001b[49m\u001b[43mtoken\u001b[49m\u001b[43m=\u001b[49m\u001b[43mtoken\u001b[49m\u001b[43m,\u001b[49m\n\u001b[32m    876\u001b[39m \u001b[43m        \u001b[49m\u001b[38;5;66;43;03m# Additional options\u001b[39;49;00m\n\u001b[32m    877\u001b[39m \u001b[43m        \u001b[49m\u001b[43mlocal_files_only\u001b[49m\u001b[43m=\u001b[49m\u001b[43mlocal_files_only\u001b[49m\u001b[43m,\u001b[49m\n\u001b[32m    878\u001b[39m \u001b[43m        \u001b[49m\u001b[43mforce_download\u001b[49m\u001b[43m=\u001b[49m\u001b[43mforce_download\u001b[49m\u001b[43m,\u001b[49m\n\u001b[32m    879\u001b[39m \u001b[43m    \u001b[49m\u001b[43m)\u001b[49m\n",
      "\u001b[36mFile \u001b[39m\u001b[32m~/Desktop/LLM/.venv/lib/python3.13/site-packages/huggingface_hub/file_download.py:1011\u001b[39m, in \u001b[36m_hf_hub_download_to_cache_dir\u001b[39m\u001b[34m(cache_dir, repo_id, filename, repo_type, revision, endpoint, etag_timeout, headers, proxies, token, local_files_only, force_download)\u001b[39m\n\u001b[32m   1009\u001b[39m Path(lock_path).parent.mkdir(parents=\u001b[38;5;28;01mTrue\u001b[39;00m, exist_ok=\u001b[38;5;28;01mTrue\u001b[39;00m)\n\u001b[32m   1010\u001b[39m \u001b[38;5;28;01mwith\u001b[39;00m WeakFileLock(lock_path):\n\u001b[32m-> \u001b[39m\u001b[32m1011\u001b[39m     \u001b[43m_download_to_tmp_and_move\u001b[49m\u001b[43m(\u001b[49m\n\u001b[32m   1012\u001b[39m \u001b[43m        \u001b[49m\u001b[43mincomplete_path\u001b[49m\u001b[43m=\u001b[49m\u001b[43mPath\u001b[49m\u001b[43m(\u001b[49m\u001b[43mblob_path\u001b[49m\u001b[43m \u001b[49m\u001b[43m+\u001b[49m\u001b[43m \u001b[49m\u001b[33;43m\"\u001b[39;49m\u001b[33;43m.incomplete\u001b[39;49m\u001b[33;43m\"\u001b[39;49m\u001b[43m)\u001b[49m\u001b[43m,\u001b[49m\n\u001b[32m   1013\u001b[39m \u001b[43m        \u001b[49m\u001b[43mdestination_path\u001b[49m\u001b[43m=\u001b[49m\u001b[43mPath\u001b[49m\u001b[43m(\u001b[49m\u001b[43mblob_path\u001b[49m\u001b[43m)\u001b[49m\u001b[43m,\u001b[49m\n\u001b[32m   1014\u001b[39m \u001b[43m        \u001b[49m\u001b[43murl_to_download\u001b[49m\u001b[43m=\u001b[49m\u001b[43murl_to_download\u001b[49m\u001b[43m,\u001b[49m\n\u001b[32m   1015\u001b[39m \u001b[43m        \u001b[49m\u001b[43mproxies\u001b[49m\u001b[43m=\u001b[49m\u001b[43mproxies\u001b[49m\u001b[43m,\u001b[49m\n\u001b[32m   1016\u001b[39m \u001b[43m        \u001b[49m\u001b[43mheaders\u001b[49m\u001b[43m=\u001b[49m\u001b[43mheaders\u001b[49m\u001b[43m,\u001b[49m\n\u001b[32m   1017\u001b[39m \u001b[43m        \u001b[49m\u001b[43mexpected_size\u001b[49m\u001b[43m=\u001b[49m\u001b[43mexpected_size\u001b[49m\u001b[43m,\u001b[49m\n\u001b[32m   1018\u001b[39m \u001b[43m        \u001b[49m\u001b[43mfilename\u001b[49m\u001b[43m=\u001b[49m\u001b[43mfilename\u001b[49m\u001b[43m,\u001b[49m\n\u001b[32m   1019\u001b[39m \u001b[43m        \u001b[49m\u001b[43mforce_download\u001b[49m\u001b[43m=\u001b[49m\u001b[43mforce_download\u001b[49m\u001b[43m,\u001b[49m\n\u001b[32m   1020\u001b[39m \u001b[43m    \u001b[49m\u001b[43m)\u001b[49m\n\u001b[32m   1021\u001b[39m     \u001b[38;5;28;01mif\u001b[39;00m \u001b[38;5;129;01mnot\u001b[39;00m os.path.exists(pointer_path):\n\u001b[32m   1022\u001b[39m         _create_symlink(blob_path, pointer_path, new_blob=\u001b[38;5;28;01mTrue\u001b[39;00m)\n",
      "\u001b[36mFile \u001b[39m\u001b[32m~/Desktop/LLM/.venv/lib/python3.13/site-packages/huggingface_hub/file_download.py:1547\u001b[39m, in \u001b[36m_download_to_tmp_and_move\u001b[39m\u001b[34m(incomplete_path, destination_path, url_to_download, proxies, headers, expected_size, filename, force_download)\u001b[39m\n\u001b[32m   1544\u001b[39m         _check_disk_space(expected_size, incomplete_path.parent)\n\u001b[32m   1545\u001b[39m         _check_disk_space(expected_size, destination_path.parent)\n\u001b[32m-> \u001b[39m\u001b[32m1547\u001b[39m     \u001b[43mhttp_get\u001b[49m\u001b[43m(\u001b[49m\n\u001b[32m   1548\u001b[39m \u001b[43m        \u001b[49m\u001b[43murl_to_download\u001b[49m\u001b[43m,\u001b[49m\n\u001b[32m   1549\u001b[39m \u001b[43m        \u001b[49m\u001b[43mf\u001b[49m\u001b[43m,\u001b[49m\n\u001b[32m   1550\u001b[39m \u001b[43m        \u001b[49m\u001b[43mproxies\u001b[49m\u001b[43m=\u001b[49m\u001b[43mproxies\u001b[49m\u001b[43m,\u001b[49m\n\u001b[32m   1551\u001b[39m \u001b[43m        \u001b[49m\u001b[43mresume_size\u001b[49m\u001b[43m=\u001b[49m\u001b[43mresume_size\u001b[49m\u001b[43m,\u001b[49m\n\u001b[32m   1552\u001b[39m \u001b[43m        \u001b[49m\u001b[43mheaders\u001b[49m\u001b[43m=\u001b[49m\u001b[43mheaders\u001b[49m\u001b[43m,\u001b[49m\n\u001b[32m   1553\u001b[39m \u001b[43m        \u001b[49m\u001b[43mexpected_size\u001b[49m\u001b[43m=\u001b[49m\u001b[43mexpected_size\u001b[49m\u001b[43m,\u001b[49m\n\u001b[32m   1554\u001b[39m \u001b[43m    \u001b[49m\u001b[43m)\u001b[49m\n\u001b[32m   1556\u001b[39m logger.info(\u001b[33mf\u001b[39m\u001b[33m\"\u001b[39m\u001b[33mDownload complete. Moving file to \u001b[39m\u001b[38;5;132;01m{\u001b[39;00mdestination_path\u001b[38;5;132;01m}\u001b[39;00m\u001b[33m\"\u001b[39m)\n\u001b[32m   1557\u001b[39m _chmod_and_move(incomplete_path, destination_path)\n",
      "\u001b[36mFile \u001b[39m\u001b[32m~/Desktop/LLM/.venv/lib/python3.13/site-packages/huggingface_hub/file_download.py:454\u001b[39m, in \u001b[36mhttp_get\u001b[39m\u001b[34m(url, temp_file, proxies, resume_size, headers, expected_size, displayed_filename, _nb_retries, _tqdm_bar)\u001b[39m\n\u001b[32m    452\u001b[39m new_resume_size = resume_size\n\u001b[32m    453\u001b[39m \u001b[38;5;28;01mtry\u001b[39;00m:\n\u001b[32m--> \u001b[39m\u001b[32m454\u001b[39m \u001b[43m    \u001b[49m\u001b[38;5;28;43;01mfor\u001b[39;49;00m\u001b[43m \u001b[49m\u001b[43mchunk\u001b[49m\u001b[43m \u001b[49m\u001b[38;5;129;43;01min\u001b[39;49;00m\u001b[43m \u001b[49m\u001b[43mr\u001b[49m\u001b[43m.\u001b[49m\u001b[43miter_content\u001b[49m\u001b[43m(\u001b[49m\u001b[43mchunk_size\u001b[49m\u001b[43m=\u001b[49m\u001b[43mconstants\u001b[49m\u001b[43m.\u001b[49m\u001b[43mDOWNLOAD_CHUNK_SIZE\u001b[49m\u001b[43m)\u001b[49m\u001b[43m:\u001b[49m\n\u001b[32m    455\u001b[39m \u001b[43m        \u001b[49m\u001b[38;5;28;43;01mif\u001b[39;49;00m\u001b[43m \u001b[49m\u001b[43mchunk\u001b[49m\u001b[43m:\u001b[49m\u001b[43m  \u001b[49m\u001b[38;5;66;43;03m# filter out keep-alive new chunks\u001b[39;49;00m\n\u001b[32m    456\u001b[39m \u001b[43m            \u001b[49m\u001b[43mprogress\u001b[49m\u001b[43m.\u001b[49m\u001b[43mupdate\u001b[49m\u001b[43m(\u001b[49m\u001b[38;5;28;43mlen\u001b[39;49m\u001b[43m(\u001b[49m\u001b[43mchunk\u001b[49m\u001b[43m)\u001b[49m\u001b[43m)\u001b[49m\n",
      "\u001b[36mFile \u001b[39m\u001b[32m~/Desktop/LLM/.venv/lib/python3.13/site-packages/requests/models.py:820\u001b[39m, in \u001b[36mResponse.iter_content.<locals>.generate\u001b[39m\u001b[34m()\u001b[39m\n\u001b[32m    818\u001b[39m \u001b[38;5;28;01mif\u001b[39;00m \u001b[38;5;28mhasattr\u001b[39m(\u001b[38;5;28mself\u001b[39m.raw, \u001b[33m\"\u001b[39m\u001b[33mstream\u001b[39m\u001b[33m\"\u001b[39m):\n\u001b[32m    819\u001b[39m     \u001b[38;5;28;01mtry\u001b[39;00m:\n\u001b[32m--> \u001b[39m\u001b[32m820\u001b[39m         \u001b[38;5;28;01myield from\u001b[39;00m \u001b[38;5;28mself\u001b[39m.raw.stream(chunk_size, decode_content=\u001b[38;5;28;01mTrue\u001b[39;00m)\n\u001b[32m    821\u001b[39m     \u001b[38;5;28;01mexcept\u001b[39;00m ProtocolError \u001b[38;5;28;01mas\u001b[39;00m e:\n\u001b[32m    822\u001b[39m         \u001b[38;5;28;01mraise\u001b[39;00m ChunkedEncodingError(e)\n",
      "\u001b[36mFile \u001b[39m\u001b[32m~/Desktop/LLM/.venv/lib/python3.13/site-packages/urllib3/response.py:1066\u001b[39m, in \u001b[36mHTTPResponse.stream\u001b[39m\u001b[34m(self, amt, decode_content)\u001b[39m\n\u001b[32m   1064\u001b[39m \u001b[38;5;28;01melse\u001b[39;00m:\n\u001b[32m   1065\u001b[39m     \u001b[38;5;28;01mwhile\u001b[39;00m \u001b[38;5;129;01mnot\u001b[39;00m is_fp_closed(\u001b[38;5;28mself\u001b[39m._fp) \u001b[38;5;129;01mor\u001b[39;00m \u001b[38;5;28mlen\u001b[39m(\u001b[38;5;28mself\u001b[39m._decoded_buffer) > \u001b[32m0\u001b[39m:\n\u001b[32m-> \u001b[39m\u001b[32m1066\u001b[39m         data = \u001b[38;5;28;43mself\u001b[39;49m\u001b[43m.\u001b[49m\u001b[43mread\u001b[49m\u001b[43m(\u001b[49m\u001b[43mamt\u001b[49m\u001b[43m=\u001b[49m\u001b[43mamt\u001b[49m\u001b[43m,\u001b[49m\u001b[43m \u001b[49m\u001b[43mdecode_content\u001b[49m\u001b[43m=\u001b[49m\u001b[43mdecode_content\u001b[49m\u001b[43m)\u001b[49m\n\u001b[32m   1068\u001b[39m         \u001b[38;5;28;01mif\u001b[39;00m data:\n\u001b[32m   1069\u001b[39m             \u001b[38;5;28;01myield\u001b[39;00m data\n",
      "\u001b[36mFile \u001b[39m\u001b[32m~/Desktop/LLM/.venv/lib/python3.13/site-packages/urllib3/response.py:955\u001b[39m, in \u001b[36mHTTPResponse.read\u001b[39m\u001b[34m(self, amt, decode_content, cache_content)\u001b[39m\n\u001b[32m    952\u001b[39m     \u001b[38;5;28;01mif\u001b[39;00m \u001b[38;5;28mlen\u001b[39m(\u001b[38;5;28mself\u001b[39m._decoded_buffer) >= amt:\n\u001b[32m    953\u001b[39m         \u001b[38;5;28;01mreturn\u001b[39;00m \u001b[38;5;28mself\u001b[39m._decoded_buffer.get(amt)\n\u001b[32m--> \u001b[39m\u001b[32m955\u001b[39m data = \u001b[38;5;28;43mself\u001b[39;49m\u001b[43m.\u001b[49m\u001b[43m_raw_read\u001b[49m\u001b[43m(\u001b[49m\u001b[43mamt\u001b[49m\u001b[43m)\u001b[49m\n\u001b[32m    957\u001b[39m flush_decoder = amt \u001b[38;5;129;01mis\u001b[39;00m \u001b[38;5;28;01mNone\u001b[39;00m \u001b[38;5;129;01mor\u001b[39;00m (amt != \u001b[32m0\u001b[39m \u001b[38;5;129;01mand\u001b[39;00m \u001b[38;5;129;01mnot\u001b[39;00m data)\n\u001b[32m    959\u001b[39m \u001b[38;5;28;01mif\u001b[39;00m \u001b[38;5;129;01mnot\u001b[39;00m data \u001b[38;5;129;01mand\u001b[39;00m \u001b[38;5;28mlen\u001b[39m(\u001b[38;5;28mself\u001b[39m._decoded_buffer) == \u001b[32m0\u001b[39m:\n",
      "\u001b[36mFile \u001b[39m\u001b[32m~/Desktop/LLM/.venv/lib/python3.13/site-packages/urllib3/response.py:879\u001b[39m, in \u001b[36mHTTPResponse._raw_read\u001b[39m\u001b[34m(self, amt, read1)\u001b[39m\n\u001b[32m    876\u001b[39m fp_closed = \u001b[38;5;28mgetattr\u001b[39m(\u001b[38;5;28mself\u001b[39m._fp, \u001b[33m\"\u001b[39m\u001b[33mclosed\u001b[39m\u001b[33m\"\u001b[39m, \u001b[38;5;28;01mFalse\u001b[39;00m)\n\u001b[32m    878\u001b[39m \u001b[38;5;28;01mwith\u001b[39;00m \u001b[38;5;28mself\u001b[39m._error_catcher():\n\u001b[32m--> \u001b[39m\u001b[32m879\u001b[39m     data = \u001b[38;5;28;43mself\u001b[39;49m\u001b[43m.\u001b[49m\u001b[43m_fp_read\u001b[49m\u001b[43m(\u001b[49m\u001b[43mamt\u001b[49m\u001b[43m,\u001b[49m\u001b[43m \u001b[49m\u001b[43mread1\u001b[49m\u001b[43m=\u001b[49m\u001b[43mread1\u001b[49m\u001b[43m)\u001b[49m \u001b[38;5;28;01mif\u001b[39;00m \u001b[38;5;129;01mnot\u001b[39;00m fp_closed \u001b[38;5;28;01melse\u001b[39;00m \u001b[33mb\u001b[39m\u001b[33m\"\u001b[39m\u001b[33m\"\u001b[39m\n\u001b[32m    880\u001b[39m     \u001b[38;5;28;01mif\u001b[39;00m amt \u001b[38;5;129;01mis\u001b[39;00m \u001b[38;5;129;01mnot\u001b[39;00m \u001b[38;5;28;01mNone\u001b[39;00m \u001b[38;5;129;01mand\u001b[39;00m amt != \u001b[32m0\u001b[39m \u001b[38;5;129;01mand\u001b[39;00m \u001b[38;5;129;01mnot\u001b[39;00m data:\n\u001b[32m    881\u001b[39m         \u001b[38;5;66;03m# Platform-specific: Buggy versions of Python.\u001b[39;00m\n\u001b[32m    882\u001b[39m         \u001b[38;5;66;03m# Close the connection when no data is returned\u001b[39;00m\n\u001b[32m   (...)\u001b[39m\u001b[32m    887\u001b[39m         \u001b[38;5;66;03m# not properly close the connection in all cases. There is\u001b[39;00m\n\u001b[32m    888\u001b[39m         \u001b[38;5;66;03m# no harm in redundantly calling close.\u001b[39;00m\n\u001b[32m    889\u001b[39m         \u001b[38;5;28mself\u001b[39m._fp.close()\n",
      "\u001b[36mFile \u001b[39m\u001b[32m~/Desktop/LLM/.venv/lib/python3.13/site-packages/urllib3/response.py:862\u001b[39m, in \u001b[36mHTTPResponse._fp_read\u001b[39m\u001b[34m(self, amt, read1)\u001b[39m\n\u001b[32m    859\u001b[39m     \u001b[38;5;28;01mreturn\u001b[39;00m \u001b[38;5;28mself\u001b[39m._fp.read1(amt) \u001b[38;5;28;01mif\u001b[39;00m amt \u001b[38;5;129;01mis\u001b[39;00m \u001b[38;5;129;01mnot\u001b[39;00m \u001b[38;5;28;01mNone\u001b[39;00m \u001b[38;5;28;01melse\u001b[39;00m \u001b[38;5;28mself\u001b[39m._fp.read1()\n\u001b[32m    860\u001b[39m \u001b[38;5;28;01melse\u001b[39;00m:\n\u001b[32m    861\u001b[39m     \u001b[38;5;66;03m# StringIO doesn't like amt=None\u001b[39;00m\n\u001b[32m--> \u001b[39m\u001b[32m862\u001b[39m     \u001b[38;5;28;01mreturn\u001b[39;00m \u001b[38;5;28;43mself\u001b[39;49m\u001b[43m.\u001b[49m\u001b[43m_fp\u001b[49m\u001b[43m.\u001b[49m\u001b[43mread\u001b[49m\u001b[43m(\u001b[49m\u001b[43mamt\u001b[49m\u001b[43m)\u001b[49m \u001b[38;5;28;01mif\u001b[39;00m amt \u001b[38;5;129;01mis\u001b[39;00m \u001b[38;5;129;01mnot\u001b[39;00m \u001b[38;5;28;01mNone\u001b[39;00m \u001b[38;5;28;01melse\u001b[39;00m \u001b[38;5;28mself\u001b[39m._fp.read()\n",
      "\u001b[36mFile \u001b[39m\u001b[32m/usr/lib/python3.13/http/client.py:479\u001b[39m, in \u001b[36mHTTPResponse.read\u001b[39m\u001b[34m(self, amt)\u001b[39m\n\u001b[32m    476\u001b[39m \u001b[38;5;28;01mif\u001b[39;00m \u001b[38;5;28mself\u001b[39m.length \u001b[38;5;129;01mis\u001b[39;00m \u001b[38;5;129;01mnot\u001b[39;00m \u001b[38;5;28;01mNone\u001b[39;00m \u001b[38;5;129;01mand\u001b[39;00m amt > \u001b[38;5;28mself\u001b[39m.length:\n\u001b[32m    477\u001b[39m     \u001b[38;5;66;03m# clip the read to the \"end of response\"\u001b[39;00m\n\u001b[32m    478\u001b[39m     amt = \u001b[38;5;28mself\u001b[39m.length\n\u001b[32m--> \u001b[39m\u001b[32m479\u001b[39m s = \u001b[38;5;28;43mself\u001b[39;49m\u001b[43m.\u001b[49m\u001b[43mfp\u001b[49m\u001b[43m.\u001b[49m\u001b[43mread\u001b[49m\u001b[43m(\u001b[49m\u001b[43mamt\u001b[49m\u001b[43m)\u001b[49m\n\u001b[32m    480\u001b[39m \u001b[38;5;28;01mif\u001b[39;00m \u001b[38;5;129;01mnot\u001b[39;00m s \u001b[38;5;129;01mand\u001b[39;00m amt:\n\u001b[32m    481\u001b[39m     \u001b[38;5;66;03m# Ideally, we would raise IncompleteRead if the content-length\u001b[39;00m\n\u001b[32m    482\u001b[39m     \u001b[38;5;66;03m# wasn't satisfied, but it might break compatibility.\u001b[39;00m\n\u001b[32m    483\u001b[39m     \u001b[38;5;28mself\u001b[39m._close_conn()\n",
      "\u001b[36mFile \u001b[39m\u001b[32m/usr/lib/python3.13/socket.py:719\u001b[39m, in \u001b[36mSocketIO.readinto\u001b[39m\u001b[34m(self, b)\u001b[39m\n\u001b[32m    717\u001b[39m     \u001b[38;5;28;01mraise\u001b[39;00m \u001b[38;5;167;01mOSError\u001b[39;00m(\u001b[33m\"\u001b[39m\u001b[33mcannot read from timed out object\u001b[39m\u001b[33m\"\u001b[39m)\n\u001b[32m    718\u001b[39m \u001b[38;5;28;01mtry\u001b[39;00m:\n\u001b[32m--> \u001b[39m\u001b[32m719\u001b[39m     \u001b[38;5;28;01mreturn\u001b[39;00m \u001b[38;5;28;43mself\u001b[39;49m\u001b[43m.\u001b[49m\u001b[43m_sock\u001b[49m\u001b[43m.\u001b[49m\u001b[43mrecv_into\u001b[49m\u001b[43m(\u001b[49m\u001b[43mb\u001b[49m\u001b[43m)\u001b[49m\n\u001b[32m    720\u001b[39m \u001b[38;5;28;01mexcept\u001b[39;00m timeout:\n\u001b[32m    721\u001b[39m     \u001b[38;5;28mself\u001b[39m._timeout_occurred = \u001b[38;5;28;01mTrue\u001b[39;00m\n",
      "\u001b[36mFile \u001b[39m\u001b[32m/usr/lib/python3.13/ssl.py:1304\u001b[39m, in \u001b[36mSSLSocket.recv_into\u001b[39m\u001b[34m(self, buffer, nbytes, flags)\u001b[39m\n\u001b[32m   1300\u001b[39m     \u001b[38;5;28;01mif\u001b[39;00m flags != \u001b[32m0\u001b[39m:\n\u001b[32m   1301\u001b[39m         \u001b[38;5;28;01mraise\u001b[39;00m \u001b[38;5;167;01mValueError\u001b[39;00m(\n\u001b[32m   1302\u001b[39m           \u001b[33m\"\u001b[39m\u001b[33mnon-zero flags not allowed in calls to recv_into() on \u001b[39m\u001b[38;5;132;01m%s\u001b[39;00m\u001b[33m\"\u001b[39m %\n\u001b[32m   1303\u001b[39m           \u001b[38;5;28mself\u001b[39m.\u001b[34m__class__\u001b[39m)\n\u001b[32m-> \u001b[39m\u001b[32m1304\u001b[39m     \u001b[38;5;28;01mreturn\u001b[39;00m \u001b[38;5;28;43mself\u001b[39;49m\u001b[43m.\u001b[49m\u001b[43mread\u001b[49m\u001b[43m(\u001b[49m\u001b[43mnbytes\u001b[49m\u001b[43m,\u001b[49m\u001b[43m \u001b[49m\u001b[43mbuffer\u001b[49m\u001b[43m)\u001b[49m\n\u001b[32m   1305\u001b[39m \u001b[38;5;28;01melse\u001b[39;00m:\n\u001b[32m   1306\u001b[39m     \u001b[38;5;28;01mreturn\u001b[39;00m \u001b[38;5;28msuper\u001b[39m().recv_into(buffer, nbytes, flags)\n",
      "\u001b[36mFile \u001b[39m\u001b[32m/usr/lib/python3.13/ssl.py:1138\u001b[39m, in \u001b[36mSSLSocket.read\u001b[39m\u001b[34m(self, len, buffer)\u001b[39m\n\u001b[32m   1136\u001b[39m \u001b[38;5;28;01mtry\u001b[39;00m:\n\u001b[32m   1137\u001b[39m     \u001b[38;5;28;01mif\u001b[39;00m buffer \u001b[38;5;129;01mis\u001b[39;00m \u001b[38;5;129;01mnot\u001b[39;00m \u001b[38;5;28;01mNone\u001b[39;00m:\n\u001b[32m-> \u001b[39m\u001b[32m1138\u001b[39m         \u001b[38;5;28;01mreturn\u001b[39;00m \u001b[38;5;28;43mself\u001b[39;49m\u001b[43m.\u001b[49m\u001b[43m_sslobj\u001b[49m\u001b[43m.\u001b[49m\u001b[43mread\u001b[49m\u001b[43m(\u001b[49m\u001b[38;5;28;43mlen\u001b[39;49m\u001b[43m,\u001b[49m\u001b[43m \u001b[49m\u001b[43mbuffer\u001b[49m\u001b[43m)\u001b[49m\n\u001b[32m   1139\u001b[39m     \u001b[38;5;28;01melse\u001b[39;00m:\n\u001b[32m   1140\u001b[39m         \u001b[38;5;28;01mreturn\u001b[39;00m \u001b[38;5;28mself\u001b[39m._sslobj.read(\u001b[38;5;28mlen\u001b[39m)\n",
      "\u001b[31mKeyboardInterrupt\u001b[39m: "
     ]
    }
   ],
   "source": [
    "from langchain_huggingface import ChatHuggingFace, HuggingFacePipeline\n",
    "import os\n",
    "\n",
    "\n",
    "# os.environ['HF_HOME'] = 'D:/huggingface_cache'\n",
    "\n",
    "\n",
    "llm = HuggingFacePipeline.from_model_id(\n",
    "    model_id='TinyLlama/TinyLlama-1.1B-Chat-v1.0',\n",
    "    task='text-generation',\n",
    "    pipeline_kwargs=dict(\n",
    "        temperature=0.5,\n",
    "        max_new_tokens=100\n",
    "    )\n",
    ")\n",
    "model = ChatHuggingFace(llm=llm)\n",
    "\n",
    "\n",
    "result = model.invoke(\"What is the capital of Gujarat\")\n",
    "\n",
    "\n",
    "print(result.content)\n"
   ]
  },
  {
   "cell_type": "code",
   "execution_count": 4,
   "metadata": {},
   "outputs": [
    {
     "ename": "NameError",
     "evalue": "name 'DataLoader' is not defined",
     "output_type": "error",
     "traceback": [
      "\u001b[31m---------------------------------------------------------------------------\u001b[39m",
      "\u001b[31mNameError\u001b[39m                                 Traceback (most recent call last)",
      "\u001b[36mCell\u001b[39m\u001b[36m \u001b[39m\u001b[32mIn[4]\u001b[39m\u001b[32m, line 1\u001b[39m\n\u001b[32m----> \u001b[39m\u001b[32m1\u001b[39m train_loader = \u001b[43mDataLoader\u001b[49m(dataset, batch_size=\u001b[32m16\u001b[39m)\n",
      "\u001b[31mNameError\u001b[39m: name 'DataLoader' is not defined"
     ]
    }
   ],
   "source": [
    "train_loader = DataLoader(dataset, batch_size=16)"
   ]
  },
  {
   "cell_type": "code",
   "execution_count": 6,
   "metadata": {},
   "outputs": [
    {
     "name": "stdout",
     "output_type": "stream",
     "text": [
      "tensor([6, 5])\n",
      "tensor([4, 1])\n",
      "tensor([10,  2])\n",
      "tensor([8, 3])\n",
      "tensor([9, 7])\n"
     ]
    }
   ],
   "source": [
    "from torch.utils.data import DataLoader, Dataset\n",
    "\n",
    "# Example dataset (replace with your actual dataset)\n",
    "class MyDataset(Dataset):\n",
    "    def __init__(self, data):\n",
    "        self.data = data\n",
    "\n",
    "    def __len__(self):\n",
    "        return len(self.data)\n",
    "\n",
    "    def __getitem__(self, idx):\n",
    "        return self.data[idx]\n",
    "\n",
    "# Create a dummy dataset\n",
    "data = [1, 2, 3, 4, 5, 6, 7, 8, 9, 10]\n",
    "dataset = MyDataset(data)\n",
    "\n",
    "# Create the DataLoader\n",
    "train_loader = DataLoader(dataset, batch_size=2, shuffle=True)\n",
    "\n",
    "# Iterate through the DataLoader\n",
    "for batch in train_loader:\n",
    "    print(batch)"
   ]
  },
  {
   "cell_type": "code",
   "execution_count": 7,
   "metadata": {},
   "outputs": [],
   "source": [
    "import torch\n",
    "torch.cuda.empty_cache()"
   ]
  },
  {
   "cell_type": "code",
   "execution_count": 8,
   "metadata": {},
   "outputs": [
    {
     "ename": "NameError",
     "evalue": "name 'optimizer' is not defined",
     "output_type": "error",
     "traceback": [
      "\u001b[31m---------------------------------------------------------------------------\u001b[39m",
      "\u001b[31mNameError\u001b[39m                                 Traceback (most recent call last)",
      "\u001b[36mCell\u001b[39m\u001b[36m \u001b[39m\u001b[32mIn[8]\u001b[39m\u001b[32m, line 1\u001b[39m\n\u001b[32m----> \u001b[39m\u001b[32m1\u001b[39m \u001b[43moptimizer\u001b[49m.zero_grad()\n\u001b[32m      2\u001b[39m \u001b[38;5;28;01mfor\u001b[39;00m i, data \u001b[38;5;129;01min\u001b[39;00m \u001b[38;5;28menumerate\u001b[39m(train_loader):\n\u001b[32m      3\u001b[39m     outputs = model(data)\n",
      "\u001b[31mNameError\u001b[39m: name 'optimizer' is not defined"
     ]
    }
   ],
   "source": [
    "optimizer.zero_grad()\n",
    "for i, data in enumerate(train_loader):\n",
    "    outputs = model(data)\n",
    "    loss = criterion(outputs)\n",
    "    loss.backward()\n",
    "    if (i + 1) % accumulation_steps == 0:\n",
    "        optimizer.step()\n",
    "        optimizer.zero_grad()"
   ]
  },
  {
   "cell_type": "code",
   "execution_count": 4,
   "metadata": {},
   "outputs": [
    {
     "name": "stdout",
     "output_type": "stream",
     "text": [
      "I am an expert in summarizing complex information into concise, easily digestible versions. I aim to preserve key details while conveying essential insights and ideas. When provided with a text, I aim to distill it down to its most critical points, highlighting the main concepts, takeaways, and relationships between them.\n",
      "\n",
      "Think of me as a trained researcher or analyst who has been instructed to synthesize information from various sources into a clear, concise narrative. My goal is to assist you by providing an accurate representation of the original text, free from unnecessary repetition or extraneous details.\n",
      "\n",
      "What specific text would you like me to summarize?\n"
     ]
    }
   ],
   "source": [
    "from langchain.llms import Ollama\n",
    "ollama = Ollama(base_url=\"http://localhost:11434\",\n",
    "                model=\"summarizer\")\n",
    "print(ollama('who are you'))"
   ]
  },
  {
   "cell_type": "code",
   "execution_count": 1,
   "metadata": {},
   "outputs": [
    {
     "name": "stderr",
     "output_type": "stream",
     "text": [
      "2025-03-17 23:30:48.942 WARNING streamlit.runtime.scriptrunner_utils.script_run_context: Thread 'MainThread': missing ScriptRunContext! This warning can be ignored when running in bare mode.\n",
      "2025-03-17 23:30:49.155 \n",
      "  \u001b[33m\u001b[1mWarning:\u001b[0m to view this Streamlit app on a browser, run it with the following\n",
      "  command:\n",
      "\n",
      "    streamlit run /home/hemil/Desktop/LLM/.venv/lib/python3.13/site-packages/ipykernel_launcher.py [ARGUMENTS]\n",
      "2025-03-17 23:30:49.158 Thread 'MainThread': missing ScriptRunContext! This warning can be ignored when running in bare mode.\n",
      "2025-03-17 23:30:49.161 Thread 'MainThread': missing ScriptRunContext! This warning can be ignored when running in bare mode.\n",
      "2025-03-17 23:30:49.172 Thread 'MainThread': missing ScriptRunContext! This warning can be ignored when running in bare mode.\n",
      "2025-03-17 23:30:49.173 Thread 'MainThread': missing ScriptRunContext! This warning can be ignored when running in bare mode.\n",
      "2025-03-17 23:30:49.174 Thread 'MainThread': missing ScriptRunContext! This warning can be ignored when running in bare mode.\n"
     ]
    }
   ],
   "source": [
    "import streamlit as st\n",
    "import torch\n",
    "\n",
    "st.title(\"Minimal Torch Test\")\n",
    "st.write(f\"PyTorch version: {torch.__version__}\")"
   ]
  },
  {
   "cell_type": "code",
   "execution_count": 2,
   "metadata": {},
   "outputs": [
    {
     "name": "stderr",
     "output_type": "stream",
     "text": [
      "2025-03-17 23:33:44.457 Thread 'MainThread': missing ScriptRunContext! This warning can be ignored when running in bare mode.\n",
      "2025-03-17 23:33:44.462 Thread 'MainThread': missing ScriptRunContext! This warning can be ignored when running in bare mode.\n",
      "2025-03-17 23:33:44.470 Thread 'MainThread': missing ScriptRunContext! This warning can be ignored when running in bare mode.\n",
      "2025-03-17 23:33:44.482 Thread 'MainThread': missing ScriptRunContext! This warning can be ignored when running in bare mode.\n",
      "2025-03-17 23:33:44.486 Thread 'MainThread': missing ScriptRunContext! This warning can be ignored when running in bare mode.\n",
      "2025-03-17 23:33:44.492 Thread 'MainThread': missing ScriptRunContext! This warning can be ignored when running in bare mode.\n"
     ]
    }
   ],
   "source": [
    "# app.py\n",
    "import streamlit as st\n",
    "\n",
    "st.title(\"Minimal Streamlit App\")\n",
    "st.write(\"Hello, Streamlit!\")"
   ]
  },
  {
   "cell_type": "code",
   "execution_count": null,
   "metadata": {},
   "outputs": [],
   "source": []
  }
 ],
 "metadata": {
  "kernelspec": {
   "display_name": ".venv",
   "language": "python",
   "name": "python3"
  },
  "language_info": {
   "codemirror_mode": {
    "name": "ipython",
    "version": 3
   },
   "file_extension": ".py",
   "mimetype": "text/x-python",
   "name": "python",
   "nbconvert_exporter": "python",
   "pygments_lexer": "ipython3",
   "version": "3.13.2"
  }
 },
 "nbformat": 4,
 "nbformat_minor": 2
}
